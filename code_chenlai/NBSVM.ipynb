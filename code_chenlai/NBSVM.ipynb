{
 "cells": [
  {
   "cell_type": "code",
   "execution_count": 2,
   "metadata": {},
   "outputs": [],
   "source": [
    "from os import path\n",
    "import matplotlib.pyplot as plt\n",
    "import re\n",
    "from os.path import join\n",
    "import pandas as pd\n",
    "import numpy as np\n",
    "import nltk\n",
    "from sklearn.feature_extraction.text import CountVectorizer\n",
    "from sklearn.feature_extraction.text import TfidfTransformer\n",
    "from sklearn import svm\n",
    "from sklearn.ensemble import BaggingClassifier\n",
    "from sklearn.metrics import mean_squared_error\n",
    "from sklearn.model_selection import StratifiedKFold\n",
    "from collections import Counter\n",
    "import pdb\n",
    "from scipy.sparse import coo_matrix\n",
    "\n",
    "mypath=\"/Users/chenlaishi/Documents/GitHub/Stat_628_2/data\"\n",
    "file=\"random100000w.csv\"\n",
    "data=pd.read_csv(join(mypath,file))\n",
    "data=data.dropna()\n",
    "stars=data['stars'].values.tolist()\n",
    "texts=data['text'].values.tolist()\n",
    "\n",
    "def balance_classes(x, y):\n",
    "    freqs = Counter(y)\n",
    "    max_allowable = freqs.most_common()[-1][1]\n",
    "    num_added = {clss: 0 for clss in freqs.keys()}\n",
    "    new_y = []\n",
    "    new_x = []\n",
    "    for i, yy in enumerate(y):\n",
    "        if num_added[yy] < max_allowable:\n",
    "            new_y.append(yy)\n",
    "            new_x.append(x[i])\n",
    "            num_added[yy] += 1\n",
    "    return new_x, new_y\n",
    "\n",
    "balanced_x, balanced_y = balance_classes(texts, stars)\n",
    "txt_pos = [balanced_x[i] for i,j in enumerate(balanced_y) if j>3]\n",
    "txt_neg = [balanced_x[i] for i,j in enumerate(balanced_y) if j<3]"
   ]
  },
  {
   "cell_type": "code",
   "execution_count": 3,
   "metadata": {},
   "outputs": [],
   "source": [
    "def tokenize(sentence, grams):\n",
    "    words = sentence.split()\n",
    "    tokens = []\n",
    "    for gram in grams:\n",
    "        for i in range(len(words) - gram + 1):\n",
    "            tokens += [\"_*_\".join(words[i:i+gram])]\n",
    "    return tokens\n",
    "\n",
    "def build_dict(txtlist, grams):\n",
    "    dic = Counter()\n",
    "    for sentence in txtlist:\n",
    "        dic.update(tokenize(sentence, grams))\n",
    "    return dic\n",
    "\n",
    "def process_files(txtlist, dic, r, grams):\n",
    "    j=0\n",
    "    value=[]\n",
    "    row=[]\n",
    "    col=[]\n",
    "    for l in txtlist:\n",
    "        tokens = tokenize(l, grams)\n",
    "        indexes = []\n",
    "\n",
    "        for t in tokens:\n",
    "            try:\n",
    "                indexes.append(dic[t])\n",
    "            except KeyError:\n",
    "                pass\n",
    "        indexes = list(set(indexes))\n",
    "        indexes.sort()\n",
    "        for i in indexes:\n",
    "            value.append(r[i])\n",
    "            row.append(j)\n",
    "            col.append(i)\n",
    "        j+=1\n",
    "    row=np.asarray(row)\n",
    "    col=np.asarray(col)\n",
    "    val=np.asarray(value)\n",
    "    output=coo_matrix((val,(row,col)),shape=(len(txtlist),len(dic)))\n",
    "    return output\n",
    "    \n",
    "\n",
    "def compute_ratio(poscounts, negcounts, alpha=1):\n",
    "    alltokens = list(set(list(poscounts.keys()) + list(negcounts.keys())))\n",
    "    dic = dict((t, i) for i, t in enumerate(alltokens))\n",
    "    d = len(dic)\n",
    "    p, q = np.ones(d) * alpha , np.ones(d) * alpha\n",
    "    for t in alltokens:\n",
    "        p[dic[t]] += poscounts[t]\n",
    "        q[dic[t]] += negcounts[t]\n",
    "    p /= abs(p).sum()\n",
    "    q /= abs(q).sum()\n",
    "    r = np.log(p/q)\n",
    "    return dic, r\n",
    " \n",
    "\n",
    "ngram = [int(1)]\n",
    "poscounts = build_dict(txt_pos, ngram)         \n",
    "negcounts = build_dict(txt_neg, ngram)         \n",
    "dic, r = compute_ratio(poscounts, negcounts)\n",
    "out=process_files(balanced_x, dic, r, ngram)\n",
    "\n",
    "    \n",
    "    "
   ]
  },
  {
   "cell_type": "code",
   "execution_count": 3,
   "metadata": {},
   "outputs": [
    {
     "name": "stdout",
     "output_type": "stream",
     "text": [
      "(48835, 100)\n"
     ]
    }
   ],
   "source": [
    "##SVD\n",
    "from sklearn.decomposition import TruncatedSVD\n",
    "svd = TruncatedSVD(n_components=100, n_iter=7, random_state=42)\n",
    "svd.fit(out)  \n",
    "Xsvd=svd.transform(out)\n",
    "print(Xsvd.shape)"
   ]
  },
  {
   "cell_type": "code",
   "execution_count": null,
   "metadata": {},
   "outputs": [],
   "source": [
    "#train\n",
    "y=np.asarray(balanced_y)\n",
    "skf = StratifiedKFold(n_splits=5)\n",
    "skf.get_n_splits(Xsvd, y)\n",
    "mse=0\n",
    "for train_index, test_index in skf.split(Xsvd, y):\n",
    "    X_train, X_test = Xsvd[train_index], Xsvd[test_index]\n",
    "    y_train, y_test = y[train_index], y[test_index]\n",
    "    clf = BaggingClassifier(svm.LinearSVC())\n",
    "    clf.fit(X_train, y_train)\n",
    "    preds=clf.predict(X_test)\n",
    "    mse+=mean_squared_error(y_test, preds)   \n",
    "mse=mse/5\n",
    "print(mse)"
   ]
  },
  {
   "cell_type": "code",
   "execution_count": 4,
   "metadata": {},
   "outputs": [
    {
     "data": {
      "text/plain": [
       "(48835, 56988)"
      ]
     },
     "execution_count": 4,
     "metadata": {},
     "output_type": "execute_result"
    }
   ],
   "source": [
    "out.shape"
   ]
  },
  {
   "cell_type": "code",
   "execution_count": null,
   "metadata": {},
   "outputs": [],
   "source": []
  }
 ],
 "metadata": {
  "kernelspec": {
   "display_name": "Python 3",
   "language": "python",
   "name": "python3"
  },
  "language_info": {
   "codemirror_mode": {
    "name": "ipython",
    "version": 3
   },
   "file_extension": ".py",
   "mimetype": "text/x-python",
   "name": "python",
   "nbconvert_exporter": "python",
   "pygments_lexer": "ipython3",
   "version": "3.6.3"
  }
 },
 "nbformat": 4,
 "nbformat_minor": 2
}
