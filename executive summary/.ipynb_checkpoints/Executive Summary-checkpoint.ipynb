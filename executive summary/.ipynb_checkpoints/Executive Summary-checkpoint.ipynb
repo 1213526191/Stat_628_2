{
 "cells": [
  {
   "cell_type": "markdown",
   "metadata": {},
   "source": [
    "# Yelp Review Prediction\n",
    "## 1.1 Background Information\n",
    "The main goals of this project are to identify a small set of informative features and a prediction model that manages to predict the ratings of reviews accurately. Training, testing, and validation data are all based on about 1.5 million Yelp reviews.\n",
    "## 1.2 Data Clean\n",
    "- Modify Abbreviation and Special Symbol\n",
    "\n",
    "| Before | After|\n",
    "|------|------|\n",
    "| n’t |  not |\n",
    "\n",
    "- Remove Non-English Reviews\n",
    "- Negative Sentences\n",
    "\n",
    "| Before | After|\n",
    "|------|------|\n",
    "| They NEVER get my order right |  they never notget notmy notorder notright |\n",
    "\n",
    "- Remove Punctuation"
   ]
  },
  {
   "cell_type": "markdown",
   "metadata": {},
   "source": [
    "# 2 Model Description"
   ]
  },
  {
   "cell_type": "markdown",
   "metadata": {},
   "source": [
    "## 2.1\n",
    "\n",
    "Word Cloud for 1-star Review | Word Cloud for 5-star Review\n",
    "- | - \n",
    "![Word Cloud for 1-star Review](../image/dist1.png)| ![Word Cloud for 5-star Review](../image/dist5.png)\n",
    "\n"
   ]
  },
  {
   "cell_type": "markdown",
   "metadata": {},
   "source": [
    "## 2.2"
   ]
  },
  {
   "cell_type": "markdown",
   "metadata": {},
   "source": [
    "# 3 Learning Curve"
   ]
  },
  {
   "cell_type": "markdown",
   "metadata": {},
   "source": [
    "# 4 Model MSE Comparison\n",
    "\n",
    "| Model |  Neurual Network |Bagging LinearSVC|         LinearSVC|Random Forest|\n",
    "| Feature | MNB-unigram | TF-IDF|TF-IDF+LDA|      TF-IDF|TF-IDF|\n",
    "|------|------|------|\n",
    "\n",
    "|   MSE  |0.76| 0.77|0.80|                 0.83| 1.13\n",
    "|   Time  |>20min| 5 min|6min|                          20s"
   ]
  },
  {
   "cell_type": "markdown",
   "metadata": {},
   "source": [
    "## 5 Model Strengths and Weaknesses\n",
    "**Strengths**\n",
    "<br>Our selection of model and features produces robust and accurate predictions and the inclusion of additional informative variables contributes to the reduction of MSE by 0.01. \n",
    "<br>**Weaknesses**\n",
    "<br>We have not experimented much on grid search over various model parameters and leave potential room for further optimize our results."
   ]
  },
  {
   "cell_type": "markdown",
   "metadata": {},
   "source": [
    "## 6 Reference\n",
    "<br>Sida, W. and Christopher D. M.,2012, *'Baselines and Bigrams: Simple, Good Sentiment and Topic Classification'*, ACL "
   ]
  },
  {
   "cell_type": "code",
   "execution_count": null,
   "metadata": {},
   "outputs": [],
   "source": []
  }
 ],
 "metadata": {
  "kernelspec": {
   "display_name": "Python 3",
   "language": "python",
   "name": "python3"
  },
  "language_info": {
   "codemirror_mode": {
    "name": "ipython",
    "version": 3
   },
   "file_extension": ".py",
   "mimetype": "text/x-python",
   "name": "python",
   "nbconvert_exporter": "python",
   "pygments_lexer": "ipython3",
   "version": "3.6.3"
  }
 },
 "nbformat": 4,
 "nbformat_minor": 2
}
