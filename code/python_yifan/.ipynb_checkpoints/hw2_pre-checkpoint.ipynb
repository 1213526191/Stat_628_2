{
 "cells": [
  {
   "cell_type": "markdown",
   "metadata": {},
   "source": [
    "# Modular"
   ]
  },
  {
   "cell_type": "code",
   "execution_count": 2,
   "metadata": {},
   "outputs": [],
   "source": [
    "import pandas as pd\n",
    "import nltk\n",
    "from nltk.corpus import stopwords\n",
    "import time\n",
    "from nltk.corpus import wordnet\n",
    "import re\n",
    "import enchant\n",
    "import random\n",
    "import numpy as np"
   ]
  },
  {
   "cell_type": "markdown",
   "metadata": {},
   "source": [
    "# Read data"
   ]
  },
  {
   "cell_type": "code",
   "execution_count": 3,
   "metadata": {},
   "outputs": [],
   "source": [
    "filename = '/Users/Lyf/OneDrive/study/WISC/2017_spring/Stat_628/hw2/data/testval_data.csv'\n",
    "reviews = pd.read_csv(filename)"
   ]
  },
  {
   "cell_type": "code",
   "execution_count": 4,
   "metadata": {},
   "outputs": [
    {
     "data": {
      "text/plain": [
       "(1016664, 8)"
      ]
     },
     "execution_count": 4,
     "metadata": {},
     "output_type": "execute_result"
    }
   ],
   "source": [
    "reviews.shape"
   ]
  },
  {
   "cell_type": "markdown",
   "metadata": {},
   "source": [
    "# Test number"
   ]
  },
  {
   "cell_type": "code",
   "execution_count": 5,
   "metadata": {},
   "outputs": [],
   "source": [
    "N = 100000\n",
    "NN = reviews.shape[0]"
   ]
  },
  {
   "cell_type": "code",
   "execution_count": 6,
   "metadata": {},
   "outputs": [],
   "source": [
    "np.random.seed(615)\n",
    "index_ori = np.random.randint(0, NN, N)"
   ]
  },
  {
   "cell_type": "code",
   "execution_count": 7,
   "metadata": {},
   "outputs": [
    {
     "data": {
      "text/plain": [
       "array([965810, 935900, 687107, ..., 936467, 548678, 965742])"
      ]
     },
     "execution_count": 7,
     "metadata": {},
     "output_type": "execute_result"
    }
   ],
   "source": [
    "index_ori"
   ]
  },
  {
   "cell_type": "code",
   "execution_count": 8,
   "metadata": {},
   "outputs": [],
   "source": [
    "yelp = reviews.copy()\n",
    "yelp_ori = yelp.copy()"
   ]
  },
  {
   "cell_type": "code",
   "execution_count": 10,
   "metadata": {},
   "outputs": [],
   "source": [
    "yelp = reviews.iloc[index_ori,:].copy()\n",
    "yelp_ori = yelp.copy()"
   ]
  },
  {
   "cell_type": "code",
   "execution_count": 9,
   "metadata": {},
   "outputs": [
    {
     "data": {
      "text/plain": [
       "(1016664, 8)"
      ]
     },
     "execution_count": 9,
     "metadata": {},
     "output_type": "execute_result"
    }
   ],
   "source": [
    "yelp_ori.shape"
   ]
  },
  {
   "cell_type": "markdown",
   "metadata": {},
   "source": [
    "# 1 加上长度变量"
   ]
  },
  {
   "cell_type": "code",
   "execution_count": 5,
   "metadata": {},
   "outputs": [],
   "source": [
    "yelp.loc[:, 'text length'] = yelp['text'].apply(len)"
   ]
  },
  {
   "cell_type": "markdown",
   "metadata": {},
   "source": [
    "# 2 改缩写和换行符"
   ]
  },
  {
   "cell_type": "code",
   "execution_count": 10,
   "metadata": {},
   "outputs": [
    {
     "data": {
      "text/plain": [
       "\"This is the worst Sushi restaurant. I guess I never learn because they gave me food poisoning more than once from the eel.\\n\\nDon't get adventurous here because they'll make you hate all the good stuff that you would enjoy otherwise. One such example is their uni which is not fresh and served in too large a portion.\\n\\nThe service is also terrible. They have a lame attitude and last time I got the caterpillar roll, I told the waiter that it tasted bad so he laughed and walked away not offering to exchange it. I ended up paying for it with part of his tip.\\n\\nTheir rolls are humongous so if you're a glutton who doesn't care about taste, this could be your sushi place. Most rolls contain lots of fake crab.\""
      ]
     },
     "execution_count": 10,
     "metadata": {},
     "output_type": "execute_result"
    }
   ],
   "source": [
    "yelp.iloc[335, 2]"
   ]
  },
  {
   "cell_type": "code",
   "execution_count": 11,
   "metadata": {},
   "outputs": [],
   "source": [
    "shortcut_dir = {'n\\'t': ' not', '\\'s': ' is', '\\'ve': ' have', '\\'d': ' would', '\\'m': ' am',\n",
    "                'Ive': 'I have', 'cannot': 'can not', '\\\\n': ' '}"
   ]
  },
  {
   "cell_type": "code",
   "execution_count": 12,
   "metadata": {},
   "outputs": [
    {
     "name": "stdout",
     "output_type": "stream",
     "text": [
      "\\n\n"
     ]
    }
   ],
   "source": [
    "print('\\\\n')"
   ]
  },
  {
   "cell_type": "code",
   "execution_count": 13,
   "metadata": {},
   "outputs": [
    {
     "data": {
      "text/plain": [
       "14.250269889831543"
      ]
     },
     "execution_count": 13,
     "metadata": {},
     "output_type": "execute_result"
    }
   ],
   "source": [
    "t1 = time.time()\n",
    "def shortcut_remove(review):\n",
    "    review = review.lower()\n",
    "    for i in shortcut_dir:\n",
    "        review = re.sub(i, shortcut_dir[i], review)\n",
    "    return review\n",
    "yelp2 = yelp.copy()\n",
    "yelp2['text'] = yelp2['text'].apply(shortcut_remove)\n",
    "time.time() - t1"
   ]
  },
  {
   "cell_type": "code",
   "execution_count": 14,
   "metadata": {},
   "outputs": [
    {
     "data": {
      "text/plain": [
       "(1016664, 8)"
      ]
     },
     "execution_count": 14,
     "metadata": {},
     "output_type": "execute_result"
    }
   ],
   "source": [
    "yelp2.shape"
   ]
  },
  {
   "cell_type": "code",
   "execution_count": 17,
   "metadata": {},
   "outputs": [],
   "source": [
    "# i=2580\n",
    "# print(yelp['text'][i])\n",
    "# print(yelp2['text'][i])"
   ]
  },
  {
   "cell_type": "code",
   "execution_count": 18,
   "metadata": {},
   "outputs": [],
   "source": [
    "# yelp2['text'][3]"
   ]
  },
  {
   "cell_type": "markdown",
   "metadata": {},
   "source": [
    "# 3 Delete unEnglish"
   ]
  },
  {
   "cell_type": "code",
   "execution_count": 16,
   "metadata": {},
   "outputs": [
    {
     "data": {
      "text/plain": [
       "2685.2600350379944"
      ]
     },
     "execution_count": 16,
     "metadata": {},
     "output_type": "execute_result"
    }
   ],
   "source": [
    "# d = enchant.Dict(\"en_US\")\n",
    "    \n",
    "# def unEnglish_remove(review):\n",
    "#     review = re.sub('[^a-zA-Z]',' ', review)\n",
    "#     words = pd.Series(review.split())\n",
    "#     index = words.apply(d.check)\n",
    "#     if(len(index)==0):\n",
    "#         return True\n",
    "#     else:\n",
    "#         return(sum(index)/len(index)<0.8)\n",
    "# t1 = time.time()\n",
    "# index = yelp2['text'].apply(unEnglish_remove)\n",
    "# time.time() - t1"
   ]
  },
  {
   "cell_type": "code",
   "execution_count": 30,
   "metadata": {},
   "outputs": [],
   "source": [
    "# xxxx = pd.DataFrame(list(np.where(index)))\n",
    "# filename_shi = \"/Users/Lyf/Desktop/test_unen.csv\"\n",
    "# xxxx.to_csv(filename_shi, index = False)"
   ]
  },
  {
   "cell_type": "code",
   "execution_count": 31,
   "metadata": {},
   "outputs": [
    {
     "data": {
      "text/plain": [
       "(1, 3291)"
      ]
     },
     "execution_count": 31,
     "metadata": {},
     "output_type": "execute_result"
    }
   ],
   "source": [
    "# xxxx.shape"
   ]
  },
  {
   "cell_type": "code",
   "execution_count": 32,
   "metadata": {},
   "outputs": [],
   "source": [
    "# yelp3 = yelp2[-index].copy()"
   ]
  },
  {
   "cell_type": "code",
   "execution_count": 26,
   "metadata": {},
   "outputs": [],
   "source": [
    "# filename_shi = \"/Users/Lyf/Desktop/train_unen10w.csv\"\n",
    "# yelp3.to_csv(filename_shi, index = False)"
   ]
  },
  {
   "cell_type": "code",
   "execution_count": 2,
   "metadata": {},
   "outputs": [],
   "source": [
    "# i=0\n",
    "# yelp2['text'][index][(i*10):(i*10+9)]"
   ]
  },
  {
   "cell_type": "code",
   "execution_count": 3,
   "metadata": {},
   "outputs": [],
   "source": [
    "# yelp2['text'][35]"
   ]
  },
  {
   "cell_type": "code",
   "execution_count": 4,
   "metadata": {},
   "outputs": [],
   "source": [
    "# yelp2['text'][[24,1167,2580,3750]]"
   ]
  },
  {
   "cell_type": "markdown",
   "metadata": {},
   "source": [
    "# Get positive and negative"
   ]
  },
  {
   "cell_type": "code",
   "execution_count": 5,
   "metadata": {},
   "outputs": [],
   "source": [
    "# reviews_total = ''\n",
    "# for i in range(N):\n",
    "#     reviews_total = reviews_total+\" \"+yelp.loc[i, 'text']"
   ]
  },
  {
   "cell_type": "code",
   "execution_count": 6,
   "metadata": {},
   "outputs": [],
   "source": [
    "# reviews_total\n",
    "# positive_words = [\"nice\",\"prime\",\"great\",\"awesome\",\"yummy\",\"friendly\",\"delicious\",\n",
    "#                   \"love\",\"spicy\",\"good\",\"favorite\",\"well\",\"clean\",\"enjoy\"]\n",
    "# negetive_words = [\"suck\",\"terrible\",\"amazing\",\"messy\",\"worse\",\"hit\",\"miss\"]"
   ]
  },
  {
   "cell_type": "code",
   "execution_count": 7,
   "metadata": {},
   "outputs": [],
   "source": [
    "# print(reviews['text'][9])"
   ]
  },
  {
   "cell_type": "markdown",
   "metadata": {},
   "source": [
    "# 4 Add not"
   ]
  },
  {
   "cell_type": "code",
   "execution_count": 33,
   "metadata": {},
   "outputs": [],
   "source": [
    "yelp3 = yelp2.copy()"
   ]
  },
  {
   "cell_type": "code",
   "execution_count": 34,
   "metadata": {},
   "outputs": [
    {
     "data": {
      "text/plain": [
       "142.88873982429504"
      ]
     },
     "execution_count": 34,
     "metadata": {},
     "output_type": "execute_result"
    }
   ],
   "source": [
    "inverter = ['not', 'never', 'lack', 'no']\n",
    "def add_not(sentence):\n",
    "    words = sentence.split().copy()\n",
    "    not_index = 0\n",
    "    for index, word in enumerate(words):\n",
    "        if(not_index != 0):\n",
    "            words[index] = 'not' + words[index]\n",
    "        if(re.match('.*[,.?!\\'\\\"]$', word)):\n",
    "            not_index = 0\n",
    "        if(word in inverter):\n",
    "            not_index = 1\n",
    "    #         print(index)\n",
    "    sentence = \" \".join(words)\n",
    "    return(sentence)\n",
    "t1 = time.time()\n",
    "yelp4 = yelp3.copy()\n",
    "yelp4['text'] = yelp3['text'].apply(add_not)\n",
    "time.time() - t1"
   ]
  },
  {
   "cell_type": "code",
   "execution_count": 15,
   "metadata": {},
   "outputs": [],
   "source": [
    "# i=0\n",
    "# print(yelp3['text'][i])\n",
    "# print(yelp4['text'][i])"
   ]
  },
  {
   "cell_type": "markdown",
   "metadata": {},
   "source": [
    "# 5 去标点"
   ]
  },
  {
   "cell_type": "code",
   "execution_count": 8,
   "metadata": {},
   "outputs": [],
   "source": [
    "# yelp4 = yelp2.copy()"
   ]
  },
  {
   "cell_type": "code",
   "execution_count": 9,
   "metadata": {},
   "outputs": [],
   "source": [
    "# yelp4.iloc[16824,2]"
   ]
  },
  {
   "cell_type": "code",
   "execution_count": 10,
   "metadata": {},
   "outputs": [],
   "source": [
    "# def punctuation_remove(review):\n",
    "#     review = review.lower()\n",
    "#     review = re.sub(\"[^a-zA-Z]\", \" \", review)\n",
    "#     return review\n",
    "# t1 = time.time()\n",
    "# yelp5 = yelp4.copy()\n",
    "# yelp5['text'] = yelp4['text'].apply(punctuation_remove)\n",
    "# time.time() - t1"
   ]
  },
  {
   "cell_type": "code",
   "execution_count": 11,
   "metadata": {},
   "outputs": [],
   "source": [
    "# filename_chen = \"../data/chen_first\"+str(N)+\".csv\"\n",
    "# yelp4.to_csv(filename_chen, index = False)"
   ]
  },
  {
   "cell_type": "code",
   "execution_count": 12,
   "metadata": {},
   "outputs": [],
   "source": [
    "# yelp5.shape"
   ]
  },
  {
   "cell_type": "code",
   "execution_count": 13,
   "metadata": {},
   "outputs": [],
   "source": [
    "# filename_shi = \"/Users/Lyf/Desktop/test_cnn.csv\"\n",
    "# yelp5.to_csv(filename_shi, index = False)"
   ]
  },
  {
   "cell_type": "markdown",
   "metadata": {},
   "source": [
    "# 6 去不重要的词"
   ]
  },
  {
   "cell_type": "code",
   "execution_count": 14,
   "metadata": {},
   "outputs": [],
   "source": [
    "# feature = pd.read_csv(\"../../data/feature3_all.csv\")"
   ]
  },
  {
   "cell_type": "code",
   "execution_count": 15,
   "metadata": {},
   "outputs": [],
   "source": [
    "# myfeature = list(feature[\"word\"])"
   ]
  },
  {
   "cell_type": "code",
   "execution_count": 16,
   "metadata": {},
   "outputs": [],
   "source": [
    "# myfeature"
   ]
  },
  {
   "cell_type": "code",
   "execution_count": 17,
   "metadata": {},
   "outputs": [],
   "source": [
    "# def unim_remove(review):\n",
    "#     review = review.split()\n",
    "#     useful_review = [w for w in review if w in myfeature]  \n",
    "#     return \" \".join([w for w in useful_review])\n",
    "# t1 = time.time()\n",
    "# yelp6 = yelp5.copy()\n",
    "# yelp6['text'] = yelp5['text'].apply(unim_remove)\n",
    "# time.time() - t1"
   ]
  },
  {
   "cell_type": "code",
   "execution_count": null,
   "metadata": {},
   "outputs": [],
   "source": [
    "# filename_shi = \"/Users/Lyf/Desktop/train_cnn10w.csv\"\n",
    "# yelp6.to_csv(filename_shi, index = False)"
   ]
  },
  {
   "cell_type": "markdown",
   "metadata": {},
   "source": [
    "# 5 去时态"
   ]
  },
  {
   "cell_type": "code",
   "execution_count": 20,
   "metadata": {},
   "outputs": [],
   "source": [
    "# from nltk.stem.wordnet import WordNetLemmatizer \n",
    "# lem = WordNetLemmatizer()\n",
    "\n",
    "# from nltk.stem.porter import PorterStemmer \n",
    "# stem = PorterStemmer()\n",
    "# def tense_remove(review):\n",
    "#     review = review.split()\n",
    "#     return \" \".join([stem.stem(w) for w in review])\n",
    "# t1 = time.time()\n",
    "# yelp5 = yelp4.copy()\n",
    "# yelp5['text'] = yelp5['text'].apply(tense_remove)\n",
    "# time.time() - t1"
   ]
  },
  {
   "cell_type": "markdown",
   "metadata": {},
   "source": [
    "# 7 去停词"
   ]
  },
  {
   "cell_type": "code",
   "execution_count": 21,
   "metadata": {},
   "outputs": [],
   "source": [
    "# stops = set(stopwords.words(\"english\"))\n",
    "# stops2 = list(stops)\n",
    "# stops22 = ['not_'+i for i in stops2]\n",
    "# stop_all = stops2+stops22"
   ]
  },
  {
   "cell_type": "code",
   "execution_count": 18,
   "metadata": {},
   "outputs": [],
   "source": [
    "# def noise_remove(review):\n",
    "#     review = review.split()\n",
    "#     useful_review = [w for w in review if not w in stop_all]  \n",
    "#     return \" \".join([w for w in useful_review])\n",
    "# t1 = time.time()\n",
    "# yelp7 = yelp6.copy()\n",
    "# yelp7['text'] = yelp7['text'].apply(noise_remove)\n",
    "# time.time() - t1"
   ]
  },
  {
   "cell_type": "code",
   "execution_count": 51,
   "metadata": {},
   "outputs": [],
   "source": [
    "filename_li = \"/Users/Lyf/Desktop/cnn10w.csv\""
   ]
  },
  {
   "cell_type": "code",
   "execution_count": 52,
   "metadata": {},
   "outputs": [],
   "source": [
    "# filename_li = \"/Users/Lyf/OneDrive/study/WISC/2017_spring/Stat_628/hw2/test2.R\""
   ]
  },
  {
   "cell_type": "code",
   "execution_count": 53,
   "metadata": {},
   "outputs": [
    {
     "data": {
      "text/plain": [
       "'/Users/Lyf/Desktop/cnn10w.csv'"
      ]
     },
     "execution_count": 53,
     "metadata": {},
     "output_type": "execute_result"
    }
   ],
   "source": [
    "filename_li"
   ]
  },
  {
   "cell_type": "code",
   "execution_count": 54,
   "metadata": {},
   "outputs": [],
   "source": [
    "yelp5.to_csv(filename_li, index = False)"
   ]
  },
  {
   "cell_type": "code",
   "execution_count": 16,
   "metadata": {},
   "outputs": [],
   "source": [
    "filename_shi = \"../data/shi_first\"+str(N)+\"withoutNot.csv\"\n",
    "yelp7.to_csv(filename_shi, index = False)"
   ]
  },
  {
   "cell_type": "code",
   "execution_count": 20,
   "metadata": {},
   "outputs": [],
   "source": [
    "filename_li = \"../data/li_first\"+str(N)+\"_2.csv\"\n",
    "yelp6.to_csv(filename_li, index = False)"
   ]
  },
  {
   "cell_type": "code",
   "execution_count": 27,
   "metadata": {},
   "outputs": [
    {
     "data": {
      "text/html": [
       "<div>\n",
       "<style scoped>\n",
       "    .dataframe tbody tr th:only-of-type {\n",
       "        vertical-align: middle;\n",
       "    }\n",
       "\n",
       "    .dataframe tbody tr th {\n",
       "        vertical-align: top;\n",
       "    }\n",
       "\n",
       "    .dataframe thead th {\n",
       "        text-align: right;\n",
       "    }\n",
       "</style>\n",
       "<table border=\"1\" class=\"dataframe\">\n",
       "  <thead>\n",
       "    <tr style=\"text-align: right;\">\n",
       "      <th></th>\n",
       "      <th>Id</th>\n",
       "      <th>name</th>\n",
       "      <th>text</th>\n",
       "      <th>date</th>\n",
       "      <th>city</th>\n",
       "      <th>longitude</th>\n",
       "      <th>latitude</th>\n",
       "      <th>categories</th>\n",
       "    </tr>\n",
       "  </thead>\n",
       "  <tbody>\n",
       "    <tr>\n",
       "      <th>965810</th>\n",
       "      <td>965811</td>\n",
       "      <td>Blanco Tacos + Tequila</td>\n",
       "      <td>food was just ok  bar area was dirty   very ni...</td>\n",
       "      <td>2015-09-21</td>\n",
       "      <td>Phoenix</td>\n",
       "      <td>-112.028389</td>\n",
       "      <td>33.510456</td>\n",
       "      <td>['Vegetarian', 'Mexican', 'Restaurants']</td>\n",
       "    </tr>\n",
       "    <tr>\n",
       "      <th>935900</th>\n",
       "      <td>935901</td>\n",
       "      <td>La Cage Aux Sports</td>\n",
       "      <td>this is actually a very nice restaurant inside...</td>\n",
       "      <td>2015-05-10</td>\n",
       "      <td>Montréal</td>\n",
       "      <td>-73.552638</td>\n",
       "      <td>45.506790</td>\n",
       "      <td>['Sandwiches', 'Burgers', 'Restaurants', 'Chic...</td>\n",
       "    </tr>\n",
       "    <tr>\n",
       "      <th>687107</th>\n",
       "      <td>687108</td>\n",
       "      <td>Rebel Republic</td>\n",
       "      <td>great escape from the strip for sports   great...</td>\n",
       "      <td>2015-04-20</td>\n",
       "      <td>Las Vegas</td>\n",
       "      <td>-115.188286</td>\n",
       "      <td>36.145743</td>\n",
       "      <td>['Burgers', 'American (New)', 'Sports Bars', '...</td>\n",
       "    </tr>\n",
       "    <tr>\n",
       "      <th>153400</th>\n",
       "      <td>153401</td>\n",
       "      <td>Hakkasan Nightclub</td>\n",
       "      <td>do not bother with guestlist if you re trying ...</td>\n",
       "      <td>2014-09-30</td>\n",
       "      <td>Las Vegas</td>\n",
       "      <td>-115.168109</td>\n",
       "      <td>36.103799</td>\n",
       "      <td>['Chinese', 'Nightlife', 'Restaurants', 'Dance...</td>\n",
       "    </tr>\n",
       "    <tr>\n",
       "      <th>289695</th>\n",
       "      <td>289696</td>\n",
       "      <td>Imadake</td>\n",
       "      <td>i love this place  the ramen noodles are great...</td>\n",
       "      <td>2011-03-03</td>\n",
       "      <td>Montréal</td>\n",
       "      <td>-73.584954</td>\n",
       "      <td>45.488794</td>\n",
       "      <td>['Japanese', 'Pubs', 'French', 'Restaurants', ...</td>\n",
       "    </tr>\n",
       "    <tr>\n",
       "      <th>185596</th>\n",
       "      <td>185597</td>\n",
       "      <td>N9NE Steakhouse</td>\n",
       "      <td>my wife and i asked around for a nice steak ho...</td>\n",
       "      <td>2009-11-15</td>\n",
       "      <td>Las Vegas</td>\n",
       "      <td>-115.194100</td>\n",
       "      <td>36.114750</td>\n",
       "      <td>['Steakhouses', 'Restaurants', 'American (Trad...</td>\n",
       "    </tr>\n",
       "    <tr>\n",
       "      <th>968125</th>\n",
       "      <td>968126</td>\n",
       "      <td>Cafe Rio</td>\n",
       "      <td>worst cafe rio i have ever been to  consistent...</td>\n",
       "      <td>2014-05-09</td>\n",
       "      <td>Las Vegas</td>\n",
       "      <td>-115.208013</td>\n",
       "      <td>36.279467</td>\n",
       "      <td>['Restaurants', 'Mexican']</td>\n",
       "    </tr>\n",
       "    <tr>\n",
       "      <th>224448</th>\n",
       "      <td>224449</td>\n",
       "      <td>Original Pancake House</td>\n",
       "      <td>what a disappointment   nothing special about ...</td>\n",
       "      <td>2012-08-06</td>\n",
       "      <td>Scottsdale</td>\n",
       "      <td>-111.932999</td>\n",
       "      <td>33.502593</td>\n",
       "      <td>['Breakfast &amp; Brunch', 'Restaurants', 'Food', ...</td>\n",
       "    </tr>\n",
       "    <tr>\n",
       "      <th>983577</th>\n",
       "      <td>983578</td>\n",
       "      <td>Chop Chop Leith</td>\n",
       "      <td>went to the one in leith  was not bad at all  ...</td>\n",
       "      <td>2012-04-19</td>\n",
       "      <td>Edinburgh</td>\n",
       "      <td>-3.172733</td>\n",
       "      <td>55.977025</td>\n",
       "      <td>['Restaurants', 'Chinese']</td>\n",
       "    </tr>\n",
       "    <tr>\n",
       "      <th>551258</th>\n",
       "      <td>551259</td>\n",
       "      <td>Quiznos</td>\n",
       "      <td>great sandwich and friendly staff  i live in s...</td>\n",
       "      <td>2016-03-17</td>\n",
       "      <td>Phoenix</td>\n",
       "      <td>-112.030081</td>\n",
       "      <td>33.679037</td>\n",
       "      <td>['Fast Food', 'Restaurants', 'Sandwiches', 'De...</td>\n",
       "    </tr>\n",
       "    <tr>\n",
       "      <th>16847</th>\n",
       "      <td>16848</td>\n",
       "      <td>Taco Y Taco</td>\n",
       "      <td>yum yum  this place has me addicted to al past...</td>\n",
       "      <td>2015-07-06</td>\n",
       "      <td>Henderson</td>\n",
       "      <td>-115.117929</td>\n",
       "      <td>36.017521</td>\n",
       "      <td>['Mexican', 'Restaurants', 'Vegetarian']</td>\n",
       "    </tr>\n",
       "    <tr>\n",
       "      <th>479588</th>\n",
       "      <td>479589</td>\n",
       "      <td>Fat Dumpling</td>\n",
       "      <td>spent just under     getting a minifeast for m...</td>\n",
       "      <td>2014-05-03</td>\n",
       "      <td>Las Vegas</td>\n",
       "      <td>-115.192686</td>\n",
       "      <td>36.126448</td>\n",
       "      <td>['Bubble Tea', 'Chinese', 'Restaurants', 'Food']</td>\n",
       "    </tr>\n",
       "    <tr>\n",
       "      <th>615771</th>\n",
       "      <td>615772</td>\n",
       "      <td>Ocean One Bar and Grille</td>\n",
       "      <td>we stopped in there by chance  we saw a sign t...</td>\n",
       "      <td>2016-02-11</td>\n",
       "      <td>Las Vegas</td>\n",
       "      <td>-115.170512</td>\n",
       "      <td>36.108854</td>\n",
       "      <td>['Restaurants', 'American (New)', 'Bars', 'Nig...</td>\n",
       "    </tr>\n",
       "    <tr>\n",
       "      <th>854250</th>\n",
       "      <td>854251</td>\n",
       "      <td>Earl of Sandwich</td>\n",
       "      <td>earl is far and away the best  least expensive...</td>\n",
       "      <td>2009-11-22</td>\n",
       "      <td>Las Vegas</td>\n",
       "      <td>-115.171877</td>\n",
       "      <td>36.109361</td>\n",
       "      <td>['Restaurants', 'Caterers', 'Event Planning &amp; ...</td>\n",
       "    </tr>\n",
       "    <tr>\n",
       "      <th>853350</th>\n",
       "      <td>853351</td>\n",
       "      <td>Midwood Smokehouse</td>\n",
       "      <td>great smoke house dishes such as ribs  brisket...</td>\n",
       "      <td>2016-08-21</td>\n",
       "      <td>Charlotte</td>\n",
       "      <td>-80.814880</td>\n",
       "      <td>35.221008</td>\n",
       "      <td>['Pizza', 'Food', 'Restaurants', 'Smokehouse',...</td>\n",
       "    </tr>\n",
       "    <tr>\n",
       "      <th>551823</th>\n",
       "      <td>551824</td>\n",
       "      <td>Nostrano</td>\n",
       "      <td>we had a      dinner reservation and when we a...</td>\n",
       "      <td>2013-10-08</td>\n",
       "      <td>Madison</td>\n",
       "      <td>-89.384011</td>\n",
       "      <td>43.072631</td>\n",
       "      <td>['Restaurants', 'Mediterranean', 'Italian']</td>\n",
       "    </tr>\n",
       "    <tr>\n",
       "      <th>422834</th>\n",
       "      <td>422835</td>\n",
       "      <td>Madras Pantry</td>\n",
       "      <td>the worst dosa and a terrible excuse for india...</td>\n",
       "      <td>2009-09-02</td>\n",
       "      <td>Toronto</td>\n",
       "      <td>-79.411402</td>\n",
       "      <td>43.645553</td>\n",
       "      <td>['Restaurants', 'Indian']</td>\n",
       "    </tr>\n",
       "    <tr>\n",
       "      <th>676352</th>\n",
       "      <td>676353</td>\n",
       "      <td>Banh Mi Bistro Vietnamese Eatery</td>\n",
       "      <td>place is very nice   great looking and very fr...</td>\n",
       "      <td>2015-06-13</td>\n",
       "      <td>Phoenix</td>\n",
       "      <td>-112.110540</td>\n",
       "      <td>33.640678</td>\n",
       "      <td>['Restaurants', 'Bubble Tea', 'Food', 'Sandwic...</td>\n",
       "    </tr>\n",
       "    <tr>\n",
       "      <th>376886</th>\n",
       "      <td>376887</td>\n",
       "      <td>El Taco Veloz</td>\n",
       "      <td>if you are looking for authentic mexican food ...</td>\n",
       "      <td>2011-03-22</td>\n",
       "      <td>Charlotte</td>\n",
       "      <td>-80.767027</td>\n",
       "      <td>35.279887</td>\n",
       "      <td>['Restaurants', 'Mexican']</td>\n",
       "    </tr>\n",
       "    <tr>\n",
       "      <th>475021</th>\n",
       "      <td>475022</td>\n",
       "      <td>Jordan's Big Ten Pub</td>\n",
       "      <td>do not let the location down the street from c...</td>\n",
       "      <td>2012-02-21</td>\n",
       "      <td>Madison</td>\n",
       "      <td>-89.408294</td>\n",
       "      <td>43.067974</td>\n",
       "      <td>['Nightlife', 'Bars', 'Sports Bars', 'Pubs', '...</td>\n",
       "    </tr>\n",
       "    <tr>\n",
       "      <th>693841</th>\n",
       "      <td>693842</td>\n",
       "      <td>Flame Kabob</td>\n",
       "      <td>great food  great customer service  beef kabob...</td>\n",
       "      <td>2015-11-11</td>\n",
       "      <td>Las Vegas</td>\n",
       "      <td>-115.137234</td>\n",
       "      <td>36.108644</td>\n",
       "      <td>['Mediterranean', 'Restaurants', 'Halal', 'Per...</td>\n",
       "    </tr>\n",
       "    <tr>\n",
       "      <th>594245</th>\n",
       "      <td>594246</td>\n",
       "      <td>Pagaille Café</td>\n",
       "      <td>small little caf   very simplistic and charmin...</td>\n",
       "      <td>2016-12-19</td>\n",
       "      <td>Montréal</td>\n",
       "      <td>-73.590820</td>\n",
       "      <td>45.520280</td>\n",
       "      <td>['Cafes', 'Restaurants']</td>\n",
       "    </tr>\n",
       "    <tr>\n",
       "      <th>799721</th>\n",
       "      <td>799722</td>\n",
       "      <td>Zen Japanese Restaurant</td>\n",
       "      <td>i have been here several times now  and each t...</td>\n",
       "      <td>2014-08-15</td>\n",
       "      <td>Scarborough</td>\n",
       "      <td>-79.245224</td>\n",
       "      <td>43.737289</td>\n",
       "      <td>['Sushi Bars', 'Restaurants', 'Japanese']</td>\n",
       "    </tr>\n",
       "    <tr>\n",
       "      <th>307758</th>\n",
       "      <td>307759</td>\n",
       "      <td>Point Brugge Café</td>\n",
       "      <td>their sunday brunch items are to die for    it...</td>\n",
       "      <td>2009-05-09</td>\n",
       "      <td>Pittsburgh</td>\n",
       "      <td>-79.913901</td>\n",
       "      <td>40.450042</td>\n",
       "      <td>['German', 'Belgian', 'French', 'Restaurants']</td>\n",
       "    </tr>\n",
       "    <tr>\n",
       "      <th>166387</th>\n",
       "      <td>166388</td>\n",
       "      <td>Sweet Tomatoes</td>\n",
       "      <td>not a bad place   i suggest signing up for ema...</td>\n",
       "      <td>2011-12-29</td>\n",
       "      <td>Peoria</td>\n",
       "      <td>-112.222364</td>\n",
       "      <td>33.637598</td>\n",
       "      <td>['Buffets', 'Soup', 'Restaurants', 'Salad', 'V...</td>\n",
       "    </tr>\n",
       "    <tr>\n",
       "      <th>563329</th>\n",
       "      <td>563330</td>\n",
       "      <td>Wimpy's</td>\n",
       "      <td>got to admit  this place serves up a pretty ta...</td>\n",
       "      <td>2016-08-24</td>\n",
       "      <td>North Las Vegas</td>\n",
       "      <td>-115.141563</td>\n",
       "      <td>36.276349</td>\n",
       "      <td>['Restaurants', 'Burgers', 'Breakfast &amp; Brunch...</td>\n",
       "    </tr>\n",
       "    <tr>\n",
       "      <th>226878</th>\n",
       "      <td>226879</td>\n",
       "      <td>The Brass Tap - South End</td>\n",
       "      <td>they appear to have a lot of beers on tap and ...</td>\n",
       "      <td>2015-11-24</td>\n",
       "      <td>Charlotte</td>\n",
       "      <td>-80.856159</td>\n",
       "      <td>35.216364</td>\n",
       "      <td>['Beer', 'Wine &amp; Spirits', 'American (New)', '...</td>\n",
       "    </tr>\n",
       "    <tr>\n",
       "      <th>114835</th>\n",
       "      <td>114836</td>\n",
       "      <td>The Ace</td>\n",
       "      <td>my friends took me to this place a couple of w...</td>\n",
       "      <td>2013-07-22</td>\n",
       "      <td>Toronto</td>\n",
       "      <td>-79.448810</td>\n",
       "      <td>43.646144</td>\n",
       "      <td>['Breakfast &amp; Brunch', 'Canadian (New)', 'Rest...</td>\n",
       "    </tr>\n",
       "    <tr>\n",
       "      <th>315741</th>\n",
       "      <td>315742</td>\n",
       "      <td>Yagyu Yakiniku</td>\n",
       "      <td>food was good and the beer that my friends had...</td>\n",
       "      <td>2013-10-21</td>\n",
       "      <td>Las Vegas</td>\n",
       "      <td>-115.197906</td>\n",
       "      <td>36.125908</td>\n",
       "      <td>['Barbeque', 'Steakhouses', 'Restaurants', 'Ko...</td>\n",
       "    </tr>\n",
       "    <tr>\n",
       "      <th>598871</th>\n",
       "      <td>598872</td>\n",
       "      <td>Rhythm Kitchen</td>\n",
       "      <td>amazing  food very friendly staff and the  hur...</td>\n",
       "      <td>2014-10-21</td>\n",
       "      <td>Las Vegas</td>\n",
       "      <td>-115.208480</td>\n",
       "      <td>36.073079</td>\n",
       "      <td>['Steakhouses', 'Southern', 'Cajun/Creole', 'R...</td>\n",
       "    </tr>\n",
       "    <tr>\n",
       "      <th>...</th>\n",
       "      <td>...</td>\n",
       "      <td>...</td>\n",
       "      <td>...</td>\n",
       "      <td>...</td>\n",
       "      <td>...</td>\n",
       "      <td>...</td>\n",
       "      <td>...</td>\n",
       "      <td>...</td>\n",
       "    </tr>\n",
       "    <tr>\n",
       "      <th>998604</th>\n",
       "      <td>998605</td>\n",
       "      <td>Arcadia Tavern</td>\n",
       "      <td>monday night bcs championship game          no...</td>\n",
       "      <td>2013-01-09</td>\n",
       "      <td>Phoenix</td>\n",
       "      <td>-111.977756</td>\n",
       "      <td>33.494130</td>\n",
       "      <td>['American (Traditional)', 'Nightlife', 'Sport...</td>\n",
       "    </tr>\n",
       "    <tr>\n",
       "      <th>361754</th>\n",
       "      <td>361755</td>\n",
       "      <td>Yunnan Garden</td>\n",
       "      <td>a cuisine that has recently started appearing ...</td>\n",
       "      <td>2010-04-19</td>\n",
       "      <td>Las Vegas</td>\n",
       "      <td>-115.192323</td>\n",
       "      <td>36.124926</td>\n",
       "      <td>['Szechuan', 'Chinese', 'Restaurants', 'Noodles']</td>\n",
       "    </tr>\n",
       "    <tr>\n",
       "      <th>397573</th>\n",
       "      <td>397574</td>\n",
       "      <td>Babe's Sports Bar and Grill</td>\n",
       "      <td>and     these are times    minutes from...</td>\n",
       "      <td>2011-11-10</td>\n",
       "      <td>Gilbert</td>\n",
       "      <td>-111.723704</td>\n",
       "      <td>33.381304</td>\n",
       "      <td>['Nightlife', 'Bars', 'American (Traditional)'...</td>\n",
       "    </tr>\n",
       "    <tr>\n",
       "      <th>434048</th>\n",
       "      <td>434049</td>\n",
       "      <td>Marketplace Cafe</td>\n",
       "      <td>nordstrom cafe is awesome  where else can you ...</td>\n",
       "      <td>2011-12-28</td>\n",
       "      <td>Scottsdale</td>\n",
       "      <td>-111.929538</td>\n",
       "      <td>33.502131</td>\n",
       "      <td>['American (Traditional)', 'Cafes', 'Restauran...</td>\n",
       "    </tr>\n",
       "    <tr>\n",
       "      <th>646289</th>\n",
       "      <td>646290</td>\n",
       "      <td>Angry Crab Shack</td>\n",
       "      <td>lip smackin   finger lickin good  one thing  t...</td>\n",
       "      <td>2015-06-13</td>\n",
       "      <td>Mesa</td>\n",
       "      <td>-111.860701</td>\n",
       "      <td>33.365250</td>\n",
       "      <td>['Cajun/Creole', 'Restaurants', 'American (Tra...</td>\n",
       "    </tr>\n",
       "    <tr>\n",
       "      <th>693450</th>\n",
       "      <td>693451</td>\n",
       "      <td>Wrights at The Arizona Biltmore</td>\n",
       "      <td>good service  good wine selection  some of the...</td>\n",
       "      <td>2015-09-17</td>\n",
       "      <td>Phoenix</td>\n",
       "      <td>-112.023252</td>\n",
       "      <td>33.523227</td>\n",
       "      <td>['American (New)', 'Breakfast &amp; Brunch', 'Rest...</td>\n",
       "    </tr>\n",
       "    <tr>\n",
       "      <th>927355</th>\n",
       "      <td>927356</td>\n",
       "      <td>Chou's Kitchen</td>\n",
       "      <td>i had seen the write up on azcentral  so my fa...</td>\n",
       "      <td>2014-07-05</td>\n",
       "      <td>Chandler</td>\n",
       "      <td>-111.859349</td>\n",
       "      <td>33.319647</td>\n",
       "      <td>['Restaurants', 'Chinese']</td>\n",
       "    </tr>\n",
       "    <tr>\n",
       "      <th>978527</th>\n",
       "      <td>978528</td>\n",
       "      <td>Henry's Private Kitchen</td>\n",
       "      <td>ending up here on a whim after looking at the ...</td>\n",
       "      <td>2015-03-10</td>\n",
       "      <td>Mesa</td>\n",
       "      <td>-111.841255</td>\n",
       "      <td>33.388529</td>\n",
       "      <td>['Taiwanese', 'Restaurants', 'Chinese']</td>\n",
       "    </tr>\n",
       "    <tr>\n",
       "      <th>716919</th>\n",
       "      <td>716920</td>\n",
       "      <td>Whisky River</td>\n",
       "      <td>very prejudice bar   kicked a black guy out fo...</td>\n",
       "      <td>2016-11-02</td>\n",
       "      <td>Charlotte</td>\n",
       "      <td>-80.841985</td>\n",
       "      <td>35.225595</td>\n",
       "      <td>['Arts &amp; Entertainment', 'Event Planning &amp; Ser...</td>\n",
       "    </tr>\n",
       "    <tr>\n",
       "      <th>603372</th>\n",
       "      <td>603373</td>\n",
       "      <td>Hikari</td>\n",
       "      <td>best ayce i have ever experienced in my life  ...</td>\n",
       "      <td>2011-12-11</td>\n",
       "      <td>Las Vegas</td>\n",
       "      <td>-115.261375</td>\n",
       "      <td>36.112931</td>\n",
       "      <td>['Japanese', 'Steakhouses', 'Sushi Bars', 'Res...</td>\n",
       "    </tr>\n",
       "    <tr>\n",
       "      <th>690625</th>\n",
       "      <td>690626</td>\n",
       "      <td>The Burger's Priest</td>\n",
       "      <td>so  i like to tell people that i love burgers ...</td>\n",
       "      <td>2015-11-11</td>\n",
       "      <td>Toronto</td>\n",
       "      <td>-79.387579</td>\n",
       "      <td>43.648493</td>\n",
       "      <td>['Restaurants', 'Burgers']</td>\n",
       "    </tr>\n",
       "    <tr>\n",
       "      <th>571201</th>\n",
       "      <td>571202</td>\n",
       "      <td>RA Sushi Bar Restaurant</td>\n",
       "      <td>this is a regular date night spot for my husby...</td>\n",
       "      <td>2014-10-25</td>\n",
       "      <td>Phoenix</td>\n",
       "      <td>-111.976516</td>\n",
       "      <td>33.317243</td>\n",
       "      <td>['Japanese', 'Restaurants', 'Sushi Bars']</td>\n",
       "    </tr>\n",
       "    <tr>\n",
       "      <th>307385</th>\n",
       "      <td>307386</td>\n",
       "      <td>Chef Guru</td>\n",
       "      <td>delicious  cheap indian food made to order in ...</td>\n",
       "      <td>2010-07-25</td>\n",
       "      <td>Montréal</td>\n",
       "      <td>-73.580944</td>\n",
       "      <td>45.517456</td>\n",
       "      <td>['Indian', 'Restaurants', 'Food']</td>\n",
       "    </tr>\n",
       "    <tr>\n",
       "      <th>237387</th>\n",
       "      <td>237388</td>\n",
       "      <td>Amélie's French Bakery</td>\n",
       "      <td>this is a really unique restaurant  its really...</td>\n",
       "      <td>2014-12-28</td>\n",
       "      <td>Charlotte</td>\n",
       "      <td>-80.812057</td>\n",
       "      <td>35.241145</td>\n",
       "      <td>['Bakeries', 'Breakfast &amp; Brunch', 'Coffee &amp; T...</td>\n",
       "    </tr>\n",
       "    <tr>\n",
       "      <th>113900</th>\n",
       "      <td>113901</td>\n",
       "      <td>Rí Rá Irish Pub</td>\n",
       "      <td>i love irish pubs and have visited my fair sha...</td>\n",
       "      <td>2011-10-21</td>\n",
       "      <td>Las Vegas</td>\n",
       "      <td>-115.175383</td>\n",
       "      <td>36.093647</td>\n",
       "      <td>['Irish', 'Nightlife', 'Restaurants', 'Pubs', ...</td>\n",
       "    </tr>\n",
       "    <tr>\n",
       "      <th>674207</th>\n",
       "      <td>674208</td>\n",
       "      <td>Los Colibris</td>\n",
       "      <td>this place is my fav place on king west   ca n...</td>\n",
       "      <td>2015-08-25</td>\n",
       "      <td>Toronto</td>\n",
       "      <td>-79.387187</td>\n",
       "      <td>43.647328</td>\n",
       "      <td>['Mexican', 'Restaurants']</td>\n",
       "    </tr>\n",
       "    <tr>\n",
       "      <th>929731</th>\n",
       "      <td>929732</td>\n",
       "      <td>The Buffet at Bellagio</td>\n",
       "      <td>i really like buffetts and this one i looooooo...</td>\n",
       "      <td>2009-07-04</td>\n",
       "      <td>Las Vegas</td>\n",
       "      <td>-115.176409</td>\n",
       "      <td>36.113160</td>\n",
       "      <td>['American (New)', 'Restaurants', 'Buffets']</td>\n",
       "    </tr>\n",
       "    <tr>\n",
       "      <th>143714</th>\n",
       "      <td>143715</td>\n",
       "      <td>Asian Garden Hakka Restaurant</td>\n",
       "      <td>the food is ok but the service is very slow   ...</td>\n",
       "      <td>2015-03-22</td>\n",
       "      <td>Richmond Hill</td>\n",
       "      <td>-79.407111</td>\n",
       "      <td>43.857706</td>\n",
       "      <td>['Chinese', 'Restaurants']</td>\n",
       "    </tr>\n",
       "    <tr>\n",
       "      <th>848643</th>\n",
       "      <td>848644</td>\n",
       "      <td>Couscous Express</td>\n",
       "      <td>this place was fantastic   just as we sat  own...</td>\n",
       "      <td>2015-12-06</td>\n",
       "      <td>Phoenix</td>\n",
       "      <td>-112.040943</td>\n",
       "      <td>33.465628</td>\n",
       "      <td>['Restaurants', 'Vegan', 'Moroccan', 'Mediterr...</td>\n",
       "    </tr>\n",
       "    <tr>\n",
       "      <th>602856</th>\n",
       "      <td>602857</td>\n",
       "      <td>Baladie Café</td>\n",
       "      <td>the owners were very excited that we had come ...</td>\n",
       "      <td>2011-10-21</td>\n",
       "      <td>Las Vegas</td>\n",
       "      <td>-115.208870</td>\n",
       "      <td>36.246716</td>\n",
       "      <td>['Greek', 'Middle Eastern', 'Restaurants', 'Me...</td>\n",
       "    </tr>\n",
       "    <tr>\n",
       "      <th>521815</th>\n",
       "      <td>521816</td>\n",
       "      <td>Dim Sum Chinese Restaurant</td>\n",
       "      <td>i attended an outing to dim sum restaurant wit...</td>\n",
       "      <td>2010-01-14</td>\n",
       "      <td>Charlotte</td>\n",
       "      <td>-80.794622</td>\n",
       "      <td>35.217622</td>\n",
       "      <td>['Restaurants', 'Dim Sum', 'Chinese']</td>\n",
       "    </tr>\n",
       "    <tr>\n",
       "      <th>634212</th>\n",
       "      <td>634213</td>\n",
       "      <td>Pasta and Sugo</td>\n",
       "      <td>pick a pasta  pick a sauce  pick a cheese  del...</td>\n",
       "      <td>2013-06-05</td>\n",
       "      <td>Phoenix</td>\n",
       "      <td>-111.995861</td>\n",
       "      <td>33.481017</td>\n",
       "      <td>['Restaurants', 'Food', 'Italian', 'Specialty ...</td>\n",
       "    </tr>\n",
       "    <tr>\n",
       "      <th>877441</th>\n",
       "      <td>877442</td>\n",
       "      <td>Tom's Thumb Fresh Market</td>\n",
       "      <td>such a great concept  a gas station  a car was...</td>\n",
       "      <td>2013-07-01</td>\n",
       "      <td>Scottsdale</td>\n",
       "      <td>-111.879257</td>\n",
       "      <td>33.639370</td>\n",
       "      <td>['Gas &amp; Service Stations', 'American (New)', '...</td>\n",
       "    </tr>\n",
       "    <tr>\n",
       "      <th>363866</th>\n",
       "      <td>363867</td>\n",
       "      <td>Sammy's Restaurant &amp; Bar</td>\n",
       "      <td>just had a long lunch at sammy is with friends...</td>\n",
       "      <td>2016-10-01</td>\n",
       "      <td>Henderson</td>\n",
       "      <td>-115.086906</td>\n",
       "      <td>36.029738</td>\n",
       "      <td>['Tapas/Small Plates', 'Salad', 'Gluten-Free',...</td>\n",
       "    </tr>\n",
       "    <tr>\n",
       "      <th>526572</th>\n",
       "      <td>526573</td>\n",
       "      <td>San Gennaro Feast</td>\n",
       "      <td>since i moved to vegas two and a half years ag...</td>\n",
       "      <td>2016-04-19</td>\n",
       "      <td>Las Vegas</td>\n",
       "      <td>-115.149580</td>\n",
       "      <td>36.241289</td>\n",
       "      <td>['Italian', 'Home Services', 'Real Estate', 'F...</td>\n",
       "    </tr>\n",
       "    <tr>\n",
       "      <th>304351</th>\n",
       "      <td>304352</td>\n",
       "      <td>Inn On Coventry</td>\n",
       "      <td>i have only eaten breakfast food here  but i c...</td>\n",
       "      <td>2010-08-20</td>\n",
       "      <td>Cleveland</td>\n",
       "      <td>-81.580503</td>\n",
       "      <td>41.508384</td>\n",
       "      <td>['Restaurants', 'Breakfast &amp; Brunch', 'Diners']</td>\n",
       "    </tr>\n",
       "    <tr>\n",
       "      <th>354231</th>\n",
       "      <td>354232</td>\n",
       "      <td>Dillons KC BBQ</td>\n",
       "      <td>came for lunch with friends and family  sat on...</td>\n",
       "      <td>2014-01-21</td>\n",
       "      <td>Peoria</td>\n",
       "      <td>-112.246468</td>\n",
       "      <td>33.610245</td>\n",
       "      <td>['American (Traditional)', 'Barbeque', 'Nightl...</td>\n",
       "    </tr>\n",
       "    <tr>\n",
       "      <th>936467</th>\n",
       "      <td>936468</td>\n",
       "      <td>Meatball Spot</td>\n",
       "      <td>i have been here twice and would go even more ...</td>\n",
       "      <td>2013-01-27</td>\n",
       "      <td>Las Vegas</td>\n",
       "      <td>-115.172664</td>\n",
       "      <td>36.068363</td>\n",
       "      <td>['American (New)', 'Restaurants', 'Italian']</td>\n",
       "    </tr>\n",
       "    <tr>\n",
       "      <th>548678</th>\n",
       "      <td>548679</td>\n",
       "      <td>DragonFly</td>\n",
       "      <td>we recently moved up the street from dragonfly...</td>\n",
       "      <td>2016-05-12</td>\n",
       "      <td>Charlotte</td>\n",
       "      <td>-80.849260</td>\n",
       "      <td>35.160889</td>\n",
       "      <td>['Chinese', 'Restaurants']</td>\n",
       "    </tr>\n",
       "    <tr>\n",
       "      <th>965742</th>\n",
       "      <td>965743</td>\n",
       "      <td>Noodle King</td>\n",
       "      <td>there are three words to describe a typical ex...</td>\n",
       "      <td>2014-01-29</td>\n",
       "      <td>Toronto</td>\n",
       "      <td>-79.384465</td>\n",
       "      <td>43.651181</td>\n",
       "      <td>['Chinese', 'Vietnamese', 'Restaurants']</td>\n",
       "    </tr>\n",
       "  </tbody>\n",
       "</table>\n",
       "<p>99688 rows × 8 columns</p>\n",
       "</div>"
      ],
      "text/plain": [
       "            Id                              name  \\\n",
       "965810  965811            Blanco Tacos + Tequila   \n",
       "935900  935901                La Cage Aux Sports   \n",
       "687107  687108                    Rebel Republic   \n",
       "153400  153401                Hakkasan Nightclub   \n",
       "289695  289696                           Imadake   \n",
       "185596  185597                   N9NE Steakhouse   \n",
       "968125  968126                          Cafe Rio   \n",
       "224448  224449            Original Pancake House   \n",
       "983577  983578                   Chop Chop Leith   \n",
       "551258  551259                           Quiznos   \n",
       "16847    16848                       Taco Y Taco   \n",
       "479588  479589                      Fat Dumpling   \n",
       "615771  615772          Ocean One Bar and Grille   \n",
       "854250  854251                  Earl of Sandwich   \n",
       "853350  853351                Midwood Smokehouse   \n",
       "551823  551824                          Nostrano   \n",
       "422834  422835                     Madras Pantry   \n",
       "676352  676353  Banh Mi Bistro Vietnamese Eatery   \n",
       "376886  376887                     El Taco Veloz   \n",
       "475021  475022              Jordan's Big Ten Pub   \n",
       "693841  693842                       Flame Kabob   \n",
       "594245  594246                     Pagaille Café   \n",
       "799721  799722           Zen Japanese Restaurant   \n",
       "307758  307759                 Point Brugge Café   \n",
       "166387  166388                    Sweet Tomatoes   \n",
       "563329  563330                           Wimpy's   \n",
       "226878  226879         The Brass Tap - South End   \n",
       "114835  114836                           The Ace   \n",
       "315741  315742                    Yagyu Yakiniku   \n",
       "598871  598872                    Rhythm Kitchen   \n",
       "...        ...                               ...   \n",
       "998604  998605                    Arcadia Tavern   \n",
       "361754  361755                     Yunnan Garden   \n",
       "397573  397574       Babe's Sports Bar and Grill   \n",
       "434048  434049                  Marketplace Cafe   \n",
       "646289  646290                  Angry Crab Shack   \n",
       "693450  693451   Wrights at The Arizona Biltmore   \n",
       "927355  927356                    Chou's Kitchen   \n",
       "978527  978528           Henry's Private Kitchen   \n",
       "716919  716920                      Whisky River   \n",
       "603372  603373                            Hikari   \n",
       "690625  690626               The Burger's Priest   \n",
       "571201  571202           RA Sushi Bar Restaurant   \n",
       "307385  307386                         Chef Guru   \n",
       "237387  237388            Amélie's French Bakery   \n",
       "113900  113901                   Rí Rá Irish Pub   \n",
       "674207  674208                      Los Colibris   \n",
       "929731  929732            The Buffet at Bellagio   \n",
       "143714  143715     Asian Garden Hakka Restaurant   \n",
       "848643  848644                  Couscous Express   \n",
       "602856  602857                      Baladie Café   \n",
       "521815  521816        Dim Sum Chinese Restaurant   \n",
       "634212  634213                    Pasta and Sugo   \n",
       "877441  877442          Tom's Thumb Fresh Market   \n",
       "363866  363867          Sammy's Restaurant & Bar   \n",
       "526572  526573                 San Gennaro Feast   \n",
       "304351  304352                   Inn On Coventry   \n",
       "354231  354232                    Dillons KC BBQ   \n",
       "936467  936468                     Meatball Spot   \n",
       "548678  548679                         DragonFly   \n",
       "965742  965743                       Noodle King   \n",
       "\n",
       "                                                     text        date  \\\n",
       "965810  food was just ok  bar area was dirty   very ni...  2015-09-21   \n",
       "935900  this is actually a very nice restaurant inside...  2015-05-10   \n",
       "687107  great escape from the strip for sports   great...  2015-04-20   \n",
       "153400  do not bother with guestlist if you re trying ...  2014-09-30   \n",
       "289695  i love this place  the ramen noodles are great...  2011-03-03   \n",
       "185596  my wife and i asked around for a nice steak ho...  2009-11-15   \n",
       "968125  worst cafe rio i have ever been to  consistent...  2014-05-09   \n",
       "224448  what a disappointment   nothing special about ...  2012-08-06   \n",
       "983577  went to the one in leith  was not bad at all  ...  2012-04-19   \n",
       "551258  great sandwich and friendly staff  i live in s...  2016-03-17   \n",
       "16847   yum yum  this place has me addicted to al past...  2015-07-06   \n",
       "479588  spent just under     getting a minifeast for m...  2014-05-03   \n",
       "615771  we stopped in there by chance  we saw a sign t...  2016-02-11   \n",
       "854250  earl is far and away the best  least expensive...  2009-11-22   \n",
       "853350  great smoke house dishes such as ribs  brisket...  2016-08-21   \n",
       "551823  we had a      dinner reservation and when we a...  2013-10-08   \n",
       "422834  the worst dosa and a terrible excuse for india...  2009-09-02   \n",
       "676352  place is very nice   great looking and very fr...  2015-06-13   \n",
       "376886  if you are looking for authentic mexican food ...  2011-03-22   \n",
       "475021  do not let the location down the street from c...  2012-02-21   \n",
       "693841  great food  great customer service  beef kabob...  2015-11-11   \n",
       "594245  small little caf   very simplistic and charmin...  2016-12-19   \n",
       "799721  i have been here several times now  and each t...  2014-08-15   \n",
       "307758  their sunday brunch items are to die for    it...  2009-05-09   \n",
       "166387  not a bad place   i suggest signing up for ema...  2011-12-29   \n",
       "563329  got to admit  this place serves up a pretty ta...  2016-08-24   \n",
       "226878  they appear to have a lot of beers on tap and ...  2015-11-24   \n",
       "114835  my friends took me to this place a couple of w...  2013-07-22   \n",
       "315741  food was good and the beer that my friends had...  2013-10-21   \n",
       "598871  amazing  food very friendly staff and the  hur...  2014-10-21   \n",
       "...                                                   ...         ...   \n",
       "998604  monday night bcs championship game          no...  2013-01-09   \n",
       "361754  a cuisine that has recently started appearing ...  2010-04-19   \n",
       "397573         and     these are times    minutes from...  2011-11-10   \n",
       "434048  nordstrom cafe is awesome  where else can you ...  2011-12-28   \n",
       "646289  lip smackin   finger lickin good  one thing  t...  2015-06-13   \n",
       "693450  good service  good wine selection  some of the...  2015-09-17   \n",
       "927355  i had seen the write up on azcentral  so my fa...  2014-07-05   \n",
       "978527  ending up here on a whim after looking at the ...  2015-03-10   \n",
       "716919  very prejudice bar   kicked a black guy out fo...  2016-11-02   \n",
       "603372  best ayce i have ever experienced in my life  ...  2011-12-11   \n",
       "690625  so  i like to tell people that i love burgers ...  2015-11-11   \n",
       "571201  this is a regular date night spot for my husby...  2014-10-25   \n",
       "307385  delicious  cheap indian food made to order in ...  2010-07-25   \n",
       "237387  this is a really unique restaurant  its really...  2014-12-28   \n",
       "113900  i love irish pubs and have visited my fair sha...  2011-10-21   \n",
       "674207  this place is my fav place on king west   ca n...  2015-08-25   \n",
       "929731  i really like buffetts and this one i looooooo...  2009-07-04   \n",
       "143714  the food is ok but the service is very slow   ...  2015-03-22   \n",
       "848643  this place was fantastic   just as we sat  own...  2015-12-06   \n",
       "602856  the owners were very excited that we had come ...  2011-10-21   \n",
       "521815  i attended an outing to dim sum restaurant wit...  2010-01-14   \n",
       "634212  pick a pasta  pick a sauce  pick a cheese  del...  2013-06-05   \n",
       "877441  such a great concept  a gas station  a car was...  2013-07-01   \n",
       "363866  just had a long lunch at sammy is with friends...  2016-10-01   \n",
       "526572  since i moved to vegas two and a half years ag...  2016-04-19   \n",
       "304351  i have only eaten breakfast food here  but i c...  2010-08-20   \n",
       "354231  came for lunch with friends and family  sat on...  2014-01-21   \n",
       "936467  i have been here twice and would go even more ...  2013-01-27   \n",
       "548678  we recently moved up the street from dragonfly...  2016-05-12   \n",
       "965742  there are three words to describe a typical ex...  2014-01-29   \n",
       "\n",
       "                   city   longitude   latitude  \\\n",
       "965810          Phoenix -112.028389  33.510456   \n",
       "935900         Montréal  -73.552638  45.506790   \n",
       "687107        Las Vegas -115.188286  36.145743   \n",
       "153400        Las Vegas -115.168109  36.103799   \n",
       "289695         Montréal  -73.584954  45.488794   \n",
       "185596        Las Vegas -115.194100  36.114750   \n",
       "968125        Las Vegas -115.208013  36.279467   \n",
       "224448       Scottsdale -111.932999  33.502593   \n",
       "983577        Edinburgh   -3.172733  55.977025   \n",
       "551258          Phoenix -112.030081  33.679037   \n",
       "16847         Henderson -115.117929  36.017521   \n",
       "479588        Las Vegas -115.192686  36.126448   \n",
       "615771        Las Vegas -115.170512  36.108854   \n",
       "854250        Las Vegas -115.171877  36.109361   \n",
       "853350        Charlotte  -80.814880  35.221008   \n",
       "551823          Madison  -89.384011  43.072631   \n",
       "422834          Toronto  -79.411402  43.645553   \n",
       "676352          Phoenix -112.110540  33.640678   \n",
       "376886        Charlotte  -80.767027  35.279887   \n",
       "475021          Madison  -89.408294  43.067974   \n",
       "693841        Las Vegas -115.137234  36.108644   \n",
       "594245         Montréal  -73.590820  45.520280   \n",
       "799721      Scarborough  -79.245224  43.737289   \n",
       "307758       Pittsburgh  -79.913901  40.450042   \n",
       "166387           Peoria -112.222364  33.637598   \n",
       "563329  North Las Vegas -115.141563  36.276349   \n",
       "226878        Charlotte  -80.856159  35.216364   \n",
       "114835          Toronto  -79.448810  43.646144   \n",
       "315741        Las Vegas -115.197906  36.125908   \n",
       "598871        Las Vegas -115.208480  36.073079   \n",
       "...                 ...         ...        ...   \n",
       "998604          Phoenix -111.977756  33.494130   \n",
       "361754        Las Vegas -115.192323  36.124926   \n",
       "397573          Gilbert -111.723704  33.381304   \n",
       "434048       Scottsdale -111.929538  33.502131   \n",
       "646289             Mesa -111.860701  33.365250   \n",
       "693450          Phoenix -112.023252  33.523227   \n",
       "927355         Chandler -111.859349  33.319647   \n",
       "978527             Mesa -111.841255  33.388529   \n",
       "716919        Charlotte  -80.841985  35.225595   \n",
       "603372        Las Vegas -115.261375  36.112931   \n",
       "690625          Toronto  -79.387579  43.648493   \n",
       "571201          Phoenix -111.976516  33.317243   \n",
       "307385         Montréal  -73.580944  45.517456   \n",
       "237387        Charlotte  -80.812057  35.241145   \n",
       "113900        Las Vegas -115.175383  36.093647   \n",
       "674207          Toronto  -79.387187  43.647328   \n",
       "929731        Las Vegas -115.176409  36.113160   \n",
       "143714    Richmond Hill  -79.407111  43.857706   \n",
       "848643          Phoenix -112.040943  33.465628   \n",
       "602856        Las Vegas -115.208870  36.246716   \n",
       "521815        Charlotte  -80.794622  35.217622   \n",
       "634212          Phoenix -111.995861  33.481017   \n",
       "877441       Scottsdale -111.879257  33.639370   \n",
       "363866        Henderson -115.086906  36.029738   \n",
       "526572        Las Vegas -115.149580  36.241289   \n",
       "304351        Cleveland  -81.580503  41.508384   \n",
       "354231           Peoria -112.246468  33.610245   \n",
       "936467        Las Vegas -115.172664  36.068363   \n",
       "548678        Charlotte  -80.849260  35.160889   \n",
       "965742          Toronto  -79.384465  43.651181   \n",
       "\n",
       "                                               categories  \n",
       "965810           ['Vegetarian', 'Mexican', 'Restaurants']  \n",
       "935900  ['Sandwiches', 'Burgers', 'Restaurants', 'Chic...  \n",
       "687107  ['Burgers', 'American (New)', 'Sports Bars', '...  \n",
       "153400  ['Chinese', 'Nightlife', 'Restaurants', 'Dance...  \n",
       "289695  ['Japanese', 'Pubs', 'French', 'Restaurants', ...  \n",
       "185596  ['Steakhouses', 'Restaurants', 'American (Trad...  \n",
       "968125                         ['Restaurants', 'Mexican']  \n",
       "224448  ['Breakfast & Brunch', 'Restaurants', 'Food', ...  \n",
       "983577                         ['Restaurants', 'Chinese']  \n",
       "551258  ['Fast Food', 'Restaurants', 'Sandwiches', 'De...  \n",
       "16847            ['Mexican', 'Restaurants', 'Vegetarian']  \n",
       "479588   ['Bubble Tea', 'Chinese', 'Restaurants', 'Food']  \n",
       "615771  ['Restaurants', 'American (New)', 'Bars', 'Nig...  \n",
       "854250  ['Restaurants', 'Caterers', 'Event Planning & ...  \n",
       "853350  ['Pizza', 'Food', 'Restaurants', 'Smokehouse',...  \n",
       "551823        ['Restaurants', 'Mediterranean', 'Italian']  \n",
       "422834                          ['Restaurants', 'Indian']  \n",
       "676352  ['Restaurants', 'Bubble Tea', 'Food', 'Sandwic...  \n",
       "376886                         ['Restaurants', 'Mexican']  \n",
       "475021  ['Nightlife', 'Bars', 'Sports Bars', 'Pubs', '...  \n",
       "693841  ['Mediterranean', 'Restaurants', 'Halal', 'Per...  \n",
       "594245                           ['Cafes', 'Restaurants']  \n",
       "799721          ['Sushi Bars', 'Restaurants', 'Japanese']  \n",
       "307758     ['German', 'Belgian', 'French', 'Restaurants']  \n",
       "166387  ['Buffets', 'Soup', 'Restaurants', 'Salad', 'V...  \n",
       "563329  ['Restaurants', 'Burgers', 'Breakfast & Brunch...  \n",
       "226878  ['Beer', 'Wine & Spirits', 'American (New)', '...  \n",
       "114835  ['Breakfast & Brunch', 'Canadian (New)', 'Rest...  \n",
       "315741  ['Barbeque', 'Steakhouses', 'Restaurants', 'Ko...  \n",
       "598871  ['Steakhouses', 'Southern', 'Cajun/Creole', 'R...  \n",
       "...                                                   ...  \n",
       "998604  ['American (Traditional)', 'Nightlife', 'Sport...  \n",
       "361754  ['Szechuan', 'Chinese', 'Restaurants', 'Noodles']  \n",
       "397573  ['Nightlife', 'Bars', 'American (Traditional)'...  \n",
       "434048  ['American (Traditional)', 'Cafes', 'Restauran...  \n",
       "646289  ['Cajun/Creole', 'Restaurants', 'American (Tra...  \n",
       "693450  ['American (New)', 'Breakfast & Brunch', 'Rest...  \n",
       "927355                         ['Restaurants', 'Chinese']  \n",
       "978527            ['Taiwanese', 'Restaurants', 'Chinese']  \n",
       "716919  ['Arts & Entertainment', 'Event Planning & Ser...  \n",
       "603372  ['Japanese', 'Steakhouses', 'Sushi Bars', 'Res...  \n",
       "690625                         ['Restaurants', 'Burgers']  \n",
       "571201          ['Japanese', 'Restaurants', 'Sushi Bars']  \n",
       "307385                  ['Indian', 'Restaurants', 'Food']  \n",
       "237387  ['Bakeries', 'Breakfast & Brunch', 'Coffee & T...  \n",
       "113900  ['Irish', 'Nightlife', 'Restaurants', 'Pubs', ...  \n",
       "674207                         ['Mexican', 'Restaurants']  \n",
       "929731       ['American (New)', 'Restaurants', 'Buffets']  \n",
       "143714                         ['Chinese', 'Restaurants']  \n",
       "848643  ['Restaurants', 'Vegan', 'Moroccan', 'Mediterr...  \n",
       "602856  ['Greek', 'Middle Eastern', 'Restaurants', 'Me...  \n",
       "521815              ['Restaurants', 'Dim Sum', 'Chinese']  \n",
       "634212  ['Restaurants', 'Food', 'Italian', 'Specialty ...  \n",
       "877441  ['Gas & Service Stations', 'American (New)', '...  \n",
       "363866  ['Tapas/Small Plates', 'Salad', 'Gluten-Free',...  \n",
       "526572  ['Italian', 'Home Services', 'Real Estate', 'F...  \n",
       "304351    ['Restaurants', 'Breakfast & Brunch', 'Diners']  \n",
       "354231  ['American (Traditional)', 'Barbeque', 'Nightl...  \n",
       "936467       ['American (New)', 'Restaurants', 'Italian']  \n",
       "548678                         ['Chinese', 'Restaurants']  \n",
       "965742           ['Chinese', 'Vietnamese', 'Restaurants']  \n",
       "\n",
       "[99688 rows x 8 columns]"
      ]
     },
     "execution_count": 27,
     "metadata": {},
     "output_type": "execute_result"
    }
   ],
   "source": [
    "yelp5"
   ]
  },
  {
   "cell_type": "code",
   "execution_count": null,
   "metadata": {},
   "outputs": [],
   "source": []
  }
 ],
 "metadata": {
  "kernelspec": {
   "display_name": "Python 3",
   "language": "python",
   "name": "python3"
  },
  "language_info": {
   "codemirror_mode": {
    "name": "ipython",
    "version": 3
   },
   "file_extension": ".py",
   "mimetype": "text/x-python",
   "name": "python",
   "nbconvert_exporter": "python",
   "pygments_lexer": "ipython3",
   "version": "3.6.4"
  }
 },
 "nbformat": 4,
 "nbformat_minor": 2
}
