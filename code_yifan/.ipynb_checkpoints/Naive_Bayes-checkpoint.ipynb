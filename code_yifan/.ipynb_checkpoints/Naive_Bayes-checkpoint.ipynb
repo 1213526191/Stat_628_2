{
 "cells": [
  {
   "cell_type": "code",
   "execution_count": 1,
   "metadata": {},
   "outputs": [],
   "source": [
    "import pandas as pd\n",
    "import numpy as np\n",
    "import nltk\n",
    "from nltk.corpus import stopwords\n",
    "import time\n",
    "from nltk.corpus import wordnet\n",
    "import re\n",
    "import enchant\n",
    "from sklearn.naive_bayes import BernoulliNB\n",
    "from sklearn.feature_extraction.text import CountVectorizer"
   ]
  },
  {
   "cell_type": "code",
   "execution_count": 2,
   "metadata": {},
   "outputs": [],
   "source": [
    "filename = '../data/li_first100000.csv'\n",
    "reviews = pd.read_csv(filename)"
   ]
  },
  {
   "cell_type": "code",
   "execution_count": 3,
   "metadata": {},
   "outputs": [
    {
     "data": {
      "text/plain": [
       "(array([ 2532, 12316, 23081, 64585, 66768, 69637, 84423]),)"
      ]
     },
     "execution_count": 3,
     "metadata": {},
     "output_type": "execute_result"
    }
   ],
   "source": [
    "def isNaN(x):\n",
    "    return str(x).lower() != 'nan'\n",
    "index = reviews['text'].apply(isNaN)\n",
    "np.where(index!=True)"
   ]
  },
  {
   "cell_type": "code",
   "execution_count": 4,
   "metadata": {},
   "outputs": [],
   "source": [
    "N=reviews.shape[0]\n",
    "review2 = reviews.loc[:N, ['text', 'stars']]\n",
    "review2 = review2[index]"
   ]
  },
  {
   "cell_type": "code",
   "execution_count": 5,
   "metadata": {},
   "outputs": [],
   "source": [
    "def text_split(text):    \n",
    "    return [word for word in text.split()]"
   ]
  },
  {
   "cell_type": "code",
   "execution_count": 6,
   "metadata": {},
   "outputs": [
    {
     "name": "stdout",
     "output_type": "stream",
     "text": [
      "['thi', 'wa', 'second', 'time', 'seafood', 'wa', 'awesom', 'rememb', 'got', 'king', 'crab', 'lobster', 'dinner', 'packag', 'come', 'soup', 'king', 'crab', 'cook', 'differ', 'way', 'steam', 'friend', 'dri', 'garlic', 'fri', 'rice', 'hk', 'style', 'lobster', 'lobster', 'tower', 'see', 'photo', 'snow', 'pea', 'dessert', 'thi', 'packag', 'meant', 'peopl', 'pre', 'tax', 'tip', 'howev', 'becaus', 'king', 'crab', 'larger', 'size', 'come', 'thi', 'packag', 'lb', 'pay', 'addit', 'extra', 'weight', 'think', 'amount', 'food', 'got', 'could', 'probabl', 'fed', 'parti', 'love', 'fri', 'lobster', 'crab', 'leg', 'super', 'yummi', 'thi', 'restaur', 'definit', 'worth', 'visit', 'ani', 'seafood', 'lover', 'howev', 'restaur', 'doe', 'get', 'veri', 'busi', 'make', 'sure', 'call', 'ahead', 'make', 'reserv', 'esp', 'plan', 'come', 'dure', 'weekend', 'tabl', 'restaur', 'pack', 'veri', 'tightli', 'round', 'tabl', 'wa', 'wa', 'liter', 'touch', 'tabl', 'besid', 'us', 'not_come', 'not_expect', 'not_restaur', 'not_nice', 'not_ambianc', 'not_place', 'not_want', 'not_talk', 'not_friend', 'not_privat', 'not_becaus', 'not_tabl', 'not_besid', 'not_definit', 'not_hear', 'not_everi', 'not_word', 'not_say']\n"
     ]
    }
   ],
   "source": [
    "X = review2['text']\n",
    "y = review2['stars']\n",
    "sample_text = X[2]\n",
    "print(text_split(sample_text))"
   ]
  },
  {
   "cell_type": "code",
   "execution_count": 7,
   "metadata": {},
   "outputs": [],
   "source": [
    "bow_transformer = CountVectorizer(analyzer=text_split).fit(X)\n",
    "feature_name = bow_transformer.get_feature_names()"
   ]
  },
  {
   "cell_type": "code",
   "execution_count": 8,
   "metadata": {},
   "outputs": [
    {
     "data": {
      "text/plain": [
       "69845"
      ]
     },
     "execution_count": 8,
     "metadata": {},
     "output_type": "execute_result"
    }
   ],
   "source": [
    "len(bow_transformer.vocabulary_)"
   ]
  },
  {
   "cell_type": "code",
   "execution_count": 9,
   "metadata": {},
   "outputs": [],
   "source": [
    "X_matrix = bow_transformer.transform(X)"
   ]
  },
  {
   "cell_type": "code",
   "execution_count": 10,
   "metadata": {},
   "outputs": [],
   "source": [
    "XX_matrix = X_matrix.toarray()"
   ]
  },
  {
   "cell_type": "code",
   "execution_count": 11,
   "metadata": {},
   "outputs": [],
   "source": [
    "X_dataframe = pd.DataFrame(XX_matrix)"
   ]
  },
  {
   "cell_type": "code",
   "execution_count": 12,
   "metadata": {},
   "outputs": [
    {
     "data": {
      "text/plain": [
       "17767    1\n",
       "74645    1\n",
       "86086    1\n",
       "Name: 0, dtype: int64"
      ]
     },
     "execution_count": 12,
     "metadata": {},
     "output_type": "execute_result"
    }
   ],
   "source": [
    "x=X_dataframe.iloc[:,0]\n",
    "index = np.where(x!=0)\n",
    "sum(x.iloc[index])\n",
    "x.iloc[index]"
   ]
  },
  {
   "cell_type": "code",
   "execution_count": 13,
   "metadata": {},
   "outputs": [],
   "source": [
    "def col_sum(x):\n",
    "    index = np.where(x!=0)\n",
    "    return sum(x.iloc[index])"
   ]
  },
  {
   "cell_type": "code",
   "execution_count": 14,
   "metadata": {},
   "outputs": [
    {
     "name": "stdout",
     "output_type": "stream",
     "text": [
      "68.11786007881165\n",
      "67.00331997871399\n",
      "66.42681980133057\n",
      "66.7203471660614\n",
      "66.66213011741638\n",
      "66.03992509841919\n",
      "65.15440511703491\n"
     ]
    }
   ],
   "source": [
    "sum_col_total = pd.Series()\n",
    "for i in range(7):\n",
    "    mini = i*10000\n",
    "    if((i+1)*10000>X_dataframe.shape[1]):\n",
    "        maxi = X_dataframe.shape[1]\n",
    "    else:\n",
    "        maxi = (i+1)*10000\n",
    "    XX_test = X_dataframe.iloc[:,mini:maxi]\n",
    "    t1 = time.time()\n",
    "    sum_col = XX_test.apply(col_sum)\n",
    "    sum_col_total = pd.concat([sum_col_total, sum_col])\n",
    "    print(time.time()-t1)\n",
    "    "
   ]
  },
  {
   "cell_type": "code",
   "execution_count": 15,
   "metadata": {},
   "outputs": [],
   "source": [
    "import heapq\n",
    "N2 = 100\n",
    "feature_index = sum_col_total.argsort()[-N2:][::-1]\n",
    "feature_index = list(feature_index)"
   ]
  },
  {
   "cell_type": "code",
   "execution_count": 16,
   "metadata": {},
   "outputs": [
    {
     "data": {
      "text/plain": [
       "['not_wa',\n",
       " 'wa',\n",
       " 'thi',\n",
       " 'food',\n",
       " 'not_thi',\n",
       " 'place',\n",
       " 'good',\n",
       " 'not_food',\n",
       " 'not_good',\n",
       " 'great',\n",
       " 'not_order',\n",
       " 'not_like',\n",
       " 'not_place',\n",
       " 'not_would',\n",
       " 'servic',\n",
       " 'veri',\n",
       " 'order',\n",
       " 'time',\n",
       " 'not_go',\n",
       " 'not_get',\n",
       " 'not_veri',\n",
       " 'not_time',\n",
       " 'not_one',\n",
       " 'not_back',\n",
       " 'like',\n",
       " 'not_great',\n",
       " 'not_servic',\n",
       " 'one',\n",
       " 'love',\n",
       " 'go',\n",
       " 'not_tri',\n",
       " 'restaur',\n",
       " 'not_realli',\n",
       " 'get',\n",
       " 'tri',\n",
       " 'would',\n",
       " 'realli',\n",
       " 'not_come',\n",
       " 'not_also',\n",
       " 'not_even',\n",
       " 'not_restaur',\n",
       " 'not_us',\n",
       " 'best',\n",
       " 'not_onli',\n",
       " 'not_tast',\n",
       " 'back',\n",
       " 'chicken',\n",
       " 'not_eat',\n",
       " 'delici',\n",
       " 'nice',\n",
       " 'not_becaus',\n",
       " 'not_wait',\n",
       " 'come',\n",
       " 'not_want',\n",
       " 'not_menu',\n",
       " 'not_fri',\n",
       " 'alway',\n",
       " 'not_chicken',\n",
       " 'not_make',\n",
       " 'not_got',\n",
       " 'not_tabl',\n",
       " 'not_well',\n",
       " 'menu',\n",
       " 'not_much',\n",
       " 'not_could',\n",
       " 'also',\n",
       " 'got',\n",
       " 'onli',\n",
       " 'price',\n",
       " 'not_sauc',\n",
       " 'not_look',\n",
       " 'not_nice',\n",
       " 'came',\n",
       " 'us',\n",
       " 'not_price',\n",
       " 'first',\n",
       " 'not_ask',\n",
       " 'not_drink',\n",
       " 'fri',\n",
       " 'ha',\n",
       " 'went',\n",
       " 'pizza',\n",
       " 'friendli',\n",
       " 'well',\n",
       " 'not_dish',\n",
       " 'amaz',\n",
       " 'wait',\n",
       " 'not_came',\n",
       " 'eat',\n",
       " 'littl',\n",
       " 'not_littl',\n",
       " 'not_love',\n",
       " 'lunch',\n",
       " 'not_think',\n",
       " 'not_meal',\n",
       " 'not_know',\n",
       " 'staff',\n",
       " 'drink',\n",
       " 'not_definit',\n",
       " 'not_better']"
      ]
     },
     "execution_count": 16,
     "metadata": {},
     "output_type": "execute_result"
    }
   ],
   "source": [
    "feature_use = [feature_name[i] for i in feature_index]\n",
    "feature_use"
   ]
  },
  {
   "cell_type": "code",
   "execution_count": 18,
   "metadata": {},
   "outputs": [],
   "source": [
    "X_simple = X_matrix[:,feature_index]"
   ]
  },
  {
   "cell_type": "code",
   "execution_count": 19,
   "metadata": {},
   "outputs": [
    {
     "name": "stdout",
     "output_type": "stream",
     "text": [
      "Shape of Sparse Matrix:  (98398, 100)\n",
      "Amount of Non-Zero occurrences:  1201617\n",
      "Density: 12.211803085428565\n"
     ]
    }
   ],
   "source": [
    "print('Shape of Sparse Matrix: ', X_simple.shape)\n",
    "print('Amount of Non-Zero occurrences: ', X_simple.nnz)\n",
    "\n",
    "# Percentage of non-zero values\n",
    "density = (100.0 * X_simple.nnz / (X_simple.shape[0] * X_simple.shape[1]))\n",
    "print('Density: {}'.format((density)))"
   ]
  },
  {
   "cell_type": "code",
   "execution_count": 20,
   "metadata": {},
   "outputs": [],
   "source": [
    "from sklearn.model_selection import train_test_split\n",
    "X_train, X_test, y_train, y_test = train_test_split(X_simple, y, test_size=0.2, random_state=101)"
   ]
  },
  {
   "cell_type": "code",
   "execution_count": 21,
   "metadata": {},
   "outputs": [
    {
     "name": "stdout",
     "output_type": "stream",
     "text": [
      "(78718, 100)\n",
      "(19680, 100)\n"
     ]
    }
   ],
   "source": [
    "print(X_train.shape)\n",
    "print(X_test.shape)"
   ]
  },
  {
   "cell_type": "code",
   "execution_count": 22,
   "metadata": {},
   "outputs": [
    {
     "data": {
      "text/plain": [
       "MultinomialNB(alpha=1.0, class_prior=None, fit_prior=True)"
      ]
     },
     "execution_count": 22,
     "metadata": {},
     "output_type": "execute_result"
    }
   ],
   "source": [
    "from sklearn.naive_bayes import MultinomialNB\n",
    "nb = MultinomialNB()\n",
    "nb.fit(X_train, y_train)"
   ]
  },
  {
   "cell_type": "code",
   "execution_count": 23,
   "metadata": {},
   "outputs": [],
   "source": [
    "preds = nb.predict(X_test)"
   ]
  },
  {
   "cell_type": "code",
   "execution_count": 24,
   "metadata": {},
   "outputs": [
    {
     "name": "stdout",
     "output_type": "stream",
     "text": [
      "[[ 689  327   99  144  827]\n",
      " [ 357  514  243  207  643]\n",
      " [ 236  570  453  481 1175]\n",
      " [ 201  691  651  884 3225]\n",
      " [ 225  613  351  605 5269]]\n",
      "\n",
      "\n",
      "             precision    recall  f1-score   support\n",
      "\n",
      "          1       0.40      0.33      0.36      2086\n",
      "          2       0.19      0.26      0.22      1964\n",
      "          3       0.25      0.16      0.19      2915\n",
      "          4       0.38      0.16      0.22      5652\n",
      "          5       0.47      0.75      0.58      7063\n",
      "\n",
      "avg / total       0.38      0.40      0.36     19680\n",
      "\n"
     ]
    }
   ],
   "source": [
    "from sklearn.metrics import confusion_matrix, classification_report\n",
    "print(confusion_matrix(y_test, preds))\n",
    "print('\\n')\n",
    "print(classification_report(y_test, preds))"
   ]
  },
  {
   "cell_type": "code",
   "execution_count": 25,
   "metadata": {},
   "outputs": [
    {
     "data": {
      "text/plain": [
       "2.4764227642276424"
      ]
     },
     "execution_count": 25,
     "metadata": {},
     "output_type": "execute_result"
    }
   ],
   "source": [
    "sum((preds-y_test)**2)/len(preds)"
   ]
  },
  {
   "cell_type": "code",
   "execution_count": null,
   "metadata": {},
   "outputs": [],
   "source": [
    "from sklearn.svm import SVR\n",
    "clf = SVR(C=1.0, epsilon=0.2)\n",
    "clf.fit(X_train, y_train) "
   ]
  },
  {
   "cell_type": "code",
   "execution_count": 96,
   "metadata": {},
   "outputs": [],
   "source": [
    "preds2 = clf.predict(X_test)"
   ]
  },
  {
   "cell_type": "code",
   "execution_count": 97,
   "metadata": {},
   "outputs": [
    {
     "data": {
      "text/plain": [
       "1.5958076324788422"
      ]
     },
     "execution_count": 97,
     "metadata": {},
     "output_type": "execute_result"
    }
   ],
   "source": [
    "sum((preds2-y_test)**2)/len(preds)"
   ]
  },
  {
   "cell_type": "code",
   "execution_count": null,
   "metadata": {},
   "outputs": [],
   "source": [
    "a\n"
   ]
  },
  {
   "cell_type": "code",
   "execution_count": null,
   "metadata": {},
   "outputs": [],
   "source": []
  }
 ],
 "metadata": {
  "kernelspec": {
   "display_name": "Python 3",
   "language": "python",
   "name": "python3"
  },
  "language_info": {
   "codemirror_mode": {
    "name": "ipython",
    "version": 3
   },
   "file_extension": ".py",
   "mimetype": "text/x-python",
   "name": "python",
   "nbconvert_exporter": "python",
   "pygments_lexer": "ipython3",
   "version": "3.6.4"
  }
 },
 "nbformat": 4,
 "nbformat_minor": 2
}
