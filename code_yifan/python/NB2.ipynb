{
 "cells": [
  {
   "cell_type": "code",
   "execution_count": 25,
   "metadata": {},
   "outputs": [],
   "source": [
    "import pandas as pd\n",
    "import numpy as np\n",
    "import nltk\n",
    "import scipy\n",
    "from nltk.corpus import stopwords\n",
    "import time\n",
    "from nltk.corpus import wordnet\n",
    "import re\n",
    "import enchant\n",
    "from sklearn.naive_bayes import BernoulliNB\n",
    "from sklearn.feature_extraction.text import CountVectorizer"
   ]
  },
  {
   "cell_type": "code",
   "execution_count": 2,
   "metadata": {},
   "outputs": [],
   "source": [
    "filename = '../data/li_first100000.csv'\n",
    "reviews = pd.read_csv(filename)"
   ]
  },
  {
   "cell_type": "code",
   "execution_count": 3,
   "metadata": {},
   "outputs": [],
   "source": [
    "def isNaN(x):\n",
    "    return str(x).lower() != 'nan'\n",
    "index = reviews['text'].apply(isNaN)"
   ]
  },
  {
   "cell_type": "code",
   "execution_count": 29,
   "metadata": {},
   "outputs": [],
   "source": [
    "N=reviews.shape[0]\n",
    "review2 = reviews.loc[:N, :]\n",
    "review2 = review2[index]"
   ]
  },
  {
   "cell_type": "code",
   "execution_count": 30,
   "metadata": {},
   "outputs": [
    {
     "data": {
      "text/plain": [
       "(array([ 2532, 12316, 23081, 64585, 66768, 69637, 84423]),)"
      ]
     },
     "execution_count": 30,
     "metadata": {},
     "output_type": "execute_result"
    }
   ],
   "source": [
    "np.where(index==False)"
   ]
  },
  {
   "cell_type": "code",
   "execution_count": null,
   "metadata": {},
   "outputs": [],
   "source": [
    "def text_split(text):    \n",
    "    return [word for word in text.split()]\n",
    "X = review2['text']\n",
    "y = review2['stars']"
   ]
  },
  {
   "cell_type": "markdown",
   "metadata": {},
   "source": [
    "# CV"
   ]
  },
  {
   "cell_type": "code",
   "execution_count": 48,
   "metadata": {},
   "outputs": [],
   "source": [
    "import random\n",
    "\n",
    "cv_index = [random.randint(1, 5) for i in range(review2.shape[0])]\n",
    "cv_index = np.array(cv_index)"
   ]
  },
  {
   "cell_type": "code",
   "execution_count": 49,
   "metadata": {},
   "outputs": [],
   "source": [
    "i=1\n",
    "train_index = np.where(cv_index==i)\n",
    "X = "
   ]
  },
  {
   "cell_type": "code",
   "execution_count": 60,
   "metadata": {},
   "outputs": [
    {
     "data": {
      "text/plain": [
       "9"
      ]
     },
     "execution_count": 60,
     "metadata": {},
     "output_type": "execute_result"
    }
   ],
   "source": [
    "train_index[0][1]"
   ]
  },
  {
   "cell_type": "code",
   "execution_count": 33,
   "metadata": {},
   "outputs": [
    {
     "data": {
      "text/plain": [
       "longitude    latitude \n",
       "-115.645378  36.257840    2\n",
       "-115.644741  36.257639    3\n",
       "-115.594566  36.269479    1\n",
       "-115.452968  36.058968    1\n",
       "-115.435431  36.065717    4\n",
       "-115.351678  36.159483    1\n",
       "-115.351451  36.159324    5\n",
       "-115.351342  36.159014    1\n",
       "-115.350952  36.159291    2\n",
       "-115.350678  36.159376    4\n",
       "-115.345235  36.179696    5\n",
       "-115.338821  36.118343    3\n",
       "-115.337654  36.159099    3\n",
       "-115.335200  36.158033    4\n",
       "-115.335129  36.157109    4\n",
       "-115.334816  36.155133    5\n",
       "-115.334768  36.155513    4\n",
       "-115.334510  36.156906    4\n",
       "-115.334387  36.156796    4\n",
       "-115.334358  36.156559    1\n",
       "-115.334235  36.145418    2\n",
       "-115.334066  36.145814    2\n",
       "-115.334016  36.146312    1\n",
       "-115.333867  36.152831    5\n",
       "-115.333833  36.157350    4\n",
       "-115.333691  36.158857    4\n",
       "-115.333614  36.157281    2\n",
       "-115.333611  36.161181    4\n",
       "-115.333594  36.156966    3\n",
       "-115.333593  36.148246    5\n",
       "                         ..\n",
       " 9.176210    48.770240    5\n",
       " 9.176704    48.773607    5\n",
       " 9.177020    48.775641    1\n",
       " 9.177063    48.778067    3\n",
       " 9.177120    48.779294    2\n",
       " 9.177220    48.775890    4\n",
       " 9.177241    48.774069    4\n",
       " 9.177394    48.780000    5\n",
       " 9.177830    48.778776    3\n",
       " 9.177860    48.780190    3\n",
       " 9.178820    48.771600    3\n",
       " 9.178950    48.775600    4\n",
       " 9.179190    48.771490    4\n",
       " 9.179350    48.771800    4\n",
       " 9.179900    48.772190    5\n",
       " 9.180019    48.779359    3\n",
       " 9.181777    48.776576    4\n",
       " 9.182285    48.773694    1\n",
       " 9.182440    48.771500    5\n",
       " 9.183290    48.775100    4\n",
       " 9.183440    48.788615    3\n",
       " 9.184886    48.774022    5\n",
       " 9.191520    48.786600    5\n",
       " 9.193932    48.692158    4\n",
       " 9.213670    48.892000    4\n",
       " 9.222313    48.809576    5\n",
       " 9.262957    48.769811    5\n",
       " 9.306526    48.743040    5\n",
       " 9.311620    48.829628    2\n",
       " 115.086769  36.019323    5\n",
       "Name: stars, Length: 23439, dtype: int64"
      ]
     },
     "execution_count": 33,
     "metadata": {},
     "output_type": "execute_result"
    }
   ],
   "source": [
    "review2.groupby(['longitude', 'latitude'])['stars'].agg(lambda x: scipy.stats.mode(x)[0])"
   ]
  },
  {
   "cell_type": "code",
   "execution_count": 34,
   "metadata": {},
   "outputs": [
    {
     "data": {
      "text/plain": [
       "23439"
      ]
     },
     "execution_count": 34,
     "metadata": {},
     "output_type": "execute_result"
    }
   ],
   "source": [
    "len(review2.groupby(['longitude', 'latitude'])['stars'].agg(lambda x: scipy.stats.mode(x)[0]))"
   ]
  },
  {
   "cell_type": "code",
   "execution_count": null,
   "metadata": {},
   "outputs": [],
   "source": []
  }
 ],
 "metadata": {
  "kernelspec": {
   "display_name": "Python 3",
   "language": "python",
   "name": "python3"
  },
  "language_info": {
   "codemirror_mode": {
    "name": "ipython",
    "version": 3
   },
   "file_extension": ".py",
   "mimetype": "text/x-python",
   "name": "python",
   "nbconvert_exporter": "python",
   "pygments_lexer": "ipython3",
   "version": "3.6.4"
  }
 },
 "nbformat": 4,
 "nbformat_minor": 2
}
