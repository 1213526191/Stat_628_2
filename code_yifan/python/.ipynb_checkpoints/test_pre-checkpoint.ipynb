{
 "cells": [
  {
   "cell_type": "code",
   "execution_count": 18,
   "metadata": {},
   "outputs": [],
   "source": [
    "import pandas as pd\n",
    "import nltk\n",
    "from nltk.corpus import stopwords\n",
    "import time\n",
    "from nltk.corpus import wordnet\n",
    "import re\n",
    "import enchant\n",
    "import random\n",
    "import numpy as np\n",
    "from langdetect import detect"
   ]
  },
  {
   "cell_type": "markdown",
   "metadata": {},
   "source": [
    "# Read data"
   ]
  },
  {
   "cell_type": "code",
   "execution_count": 3,
   "metadata": {},
   "outputs": [],
   "source": [
    "filename = '/Users/Lyf/OneDrive/study/WISC/2017_spring/Stat_628/hw2/data/testval_data.csv'\n",
    "reviews = pd.read_csv(filename)"
   ]
  },
  {
   "cell_type": "code",
   "execution_count": 4,
   "metadata": {},
   "outputs": [
    {
     "data": {
      "text/plain": [
       "(1016664, 8)"
      ]
     },
     "execution_count": 4,
     "metadata": {},
     "output_type": "execute_result"
    }
   ],
   "source": [
    "yelp = reviews.copy()\n",
    "yelp.shape"
   ]
  },
  {
   "cell_type": "markdown",
   "metadata": {},
   "source": [
    "# 1 加上长度变量"
   ]
  },
  {
   "cell_type": "code",
   "execution_count": 5,
   "metadata": {},
   "outputs": [],
   "source": [
    "yelp.loc[:, 'text length'] = yelp['text'].apply(len)"
   ]
  },
  {
   "cell_type": "markdown",
   "metadata": {},
   "source": [
    "# 2 改缩写和换行符"
   ]
  },
  {
   "cell_type": "code",
   "execution_count": 6,
   "metadata": {},
   "outputs": [],
   "source": [
    "shortcut_dir = {'n\\'t': ' not', '\\'s': ' is', '\\'ve': ' have', '\\'d': ' would', '\\'m': ' am',\n",
    "                'Ive': 'I have', 'cannot': 'can not', '\\\\n': ' '}"
   ]
  },
  {
   "cell_type": "code",
   "execution_count": 7,
   "metadata": {},
   "outputs": [
    {
     "data": {
      "text/plain": [
       "16.521751165390015"
      ]
     },
     "execution_count": 7,
     "metadata": {},
     "output_type": "execute_result"
    }
   ],
   "source": [
    "t1 = time.time()\n",
    "def shortcut_remove(review):\n",
    "    review = review.lower()\n",
    "    for i in shortcut_dir:\n",
    "        review = re.sub(i, shortcut_dir[i], review)\n",
    "    return review\n",
    "yelp2 = yelp.copy()\n",
    "yelp2['text'] = yelp2['text'].apply(shortcut_remove)\n",
    "time.time() - t1"
   ]
  },
  {
   "cell_type": "markdown",
   "metadata": {},
   "source": [
    "# 3 Delete unEnglish"
   ]
  },
  {
   "cell_type": "code",
   "execution_count": 8,
   "metadata": {},
   "outputs": [],
   "source": [
    "d = enchant.Dict(\"en_US\")"
   ]
  },
  {
   "cell_type": "code",
   "execution_count": null,
   "metadata": {},
   "outputs": [],
   "source": [
    "def unEnglish_remove(review):\n",
    "    review = re.sub('[^a-zA-Z]',' ', review)\n",
    "    words = pd.Series(review.split())\n",
    "    index = words.apply(d.check)\n",
    "    if(len(index)==0):\n",
    "        return True\n",
    "    else:\n",
    "        return(sum(index)/len(index)<0.8)\n",
    "t1 = time.time()\n",
    "index = yelp2['text'].apply(unEnglish_remove)\n",
    "time.time() - t1"
   ]
  },
  {
   "cell_type": "code",
   "execution_count": null,
   "metadata": {},
   "outputs": [],
   "source": [
    "yelp3 = yelp2[-index].copy()"
   ]
  },
  {
   "cell_type": "markdown",
   "metadata": {},
   "source": [
    "# 4 Add not"
   ]
  },
  {
   "cell_type": "code",
   "execution_count": null,
   "metadata": {},
   "outputs": [],
   "source": [
    "inverter = ['not', 'never', 'lack', 'no']\n",
    "def add_not(sentence):\n",
    "    words = sentence.split().copy()\n",
    "    not_index = 0\n",
    "    for index, word in enumerate(words):\n",
    "        if(not_index != 0):\n",
    "            words[index] = 'not' + words[index]\n",
    "        if(re.match('.*[,.?!\\'\\\"]$', word)):\n",
    "            not_index = 0\n",
    "        if(word in inverter):\n",
    "            not_index = 1\n",
    "    #         print(index)\n",
    "    sentence = \" \".join(words)\n",
    "    return(sentence)\n",
    "t1 = time.time()\n",
    "yelp4 = yelp3.copy()\n",
    "yelp4['text'] = yelp3['text'].apply(add_not)\n",
    "time.time() - t1"
   ]
  }
 ],
 "metadata": {
  "kernelspec": {
   "display_name": "Python 3",
   "language": "python",
   "name": "python3"
  },
  "language_info": {
   "codemirror_mode": {
    "name": "ipython",
    "version": 3
   },
   "file_extension": ".py",
   "mimetype": "text/x-python",
   "name": "python",
   "nbconvert_exporter": "python",
   "pygments_lexer": "ipython3",
   "version": "3.6.4"
  }
 },
 "nbformat": 4,
 "nbformat_minor": 2
}
