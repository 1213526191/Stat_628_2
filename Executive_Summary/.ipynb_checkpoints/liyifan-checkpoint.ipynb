{
 "cells": [
  {
   "cell_type": "markdown",
   "metadata": {},
   "source": [
    "## 2.2 Additional Variable\n",
    "\n",
    "- **year **: scaled year variable.\n",
    "- **loc1 **: 1 if the restaurant is in the western United States, otherwise 0.\n",
    "- **loc2 **: 1 if the restaurant is in the estern United States, otherwise 0.\n",
    "- **loc3 **: 1 if the restaurant isn't in the United States, otherwise 0.\n"
   ]
  },
  {
   "cell_type": "markdown",
   "metadata": {},
   "source": [
    "\n",
    "![Word Cloud for 1-star Review](../image/year.png)|  | ![Word Map](../image/worldmap.png)\n",
    ":- | :- | :- \n",
    "\n"
   ]
  },
  {
   "cell_type": "markdown",
   "metadata": {},
   "source": [
    "- **S1 ~ S5 **: S1[word] = $\\frac{\\text{P(this word is included in reviews with 1 star)}}{\\text{P(this word is included in reviews with other stars)}}$, S2 ~ S5 is similar for 2 ~ 5 stars."
   ]
  },
  {
   "cell_type": "markdown",
   "metadata": {},
   "source": [
    "| Word               | Variable    | 1-star | 2-star | 3-star | 4-star | 5-star |\n",
    "| ------------------ |:-----------:| :-----:| :-----:| :-----:| :-----:| :-----:|\n",
    "| **refund**         | frequence   | 115    | 15     | 7      | 4      | 2      |\n",
    "|                    | probability | 0.011  | 0.002  | 0      | 0      | 0      |\n",
    "|                    | S1 ~ S5     | 34.200 | 1.080  | 0.300  | 0.072  | 0.025  |\n",
    "| **notdisappoints** | frequence   | 0      | 2      | 5      | 43     | 110    |\n",
    "|                    | probability | 0      | 0      | 0      | 0.002  | 0.003  |\n",
    "|                    | S1 ~ S5     | 0      | 0.116  | 0.188  | 0.917  | 3.870  |\n",
    "| **and**            | frequence   | 9196   | 8691   | 12851  | 25604  | 32071  |\n",
    "|                    | probability | 0.859  | 0.886  | 0.877  | 0.895  | 0.886  |\n",
    "|                    | S1 ~ S5     | 0.968  | 1.000  | 0.991  | 1.020  | 1.000  |"
   ]
  },
  {
   "cell_type": "markdown",
   "metadata": {},
   "source": [
    "Intuitively speaking, **\"Refund\"** is a negative word ( you won't ask for a refund if you are satisfied with the restaurant ) and  **\"notdisappoints\"** is a positive one while **\"and\"** contains no information. If we merely consider probability of a word, we will mistakenly think the word **\"and\"** is important, and **\"refund\"** and **\"notdisappoints\"** are useless since their probability is close to 0. However, if we use **S1 ~ S5** to judge the sentiment of words, **\"Refund\"** get a high score for 1-star reviews and  **\"notdisappoints\"** for 5-star reviews. **\"And\"** shows no preference.\n",
    "\n",
    "We take words with high S1 value as negeaive and high S5 value as positive. The following two word clouds show positive and negative words selected through S1 and S5."
   ]
  },
  {
   "cell_type": "markdown",
   "metadata": {},
   "source": [
    "![Positive](../image/dist5.png)|![White](../image/white.jpg) | ![Negative](../image/dist1.png)\n",
    ":-: | :- | :- :\n",
    "positive | | negative"
   ]
  },
  {
   "cell_type": "markdown",
   "metadata": {},
   "source": [
    "# 4 Compare RMSE with other method"
   ]
  },
  {
   "cell_type": "markdown",
   "metadata": {},
   "source": [
    "| Feature\\Model  | GLM    | LM     | SVM    | NB     | LSTM   | \n",
    "| -------------- |:------:|:------:|:------:|:------:|:------:| \n",
    "| frequence      | 0.864  | 0.000  | 0.000  | 0.000  | 0.000  |\n",
    "| tf-idf         | 0.836  | 0.000  | 0.000  | 0.000  | 0.000  | \n",
    "| vector         | NA     | 0.000  | 0.000  | 0.000  | 0.000  |\n",
    "| vector + ad    | NA     | 0.000  | 0.000  | 0.000  | 0.000  | "
   ]
  },
  {
   "cell_type": "code",
   "execution_count": null,
   "metadata": {},
   "outputs": [],
   "source": []
  }
 ],
 "metadata": {
  "kernelspec": {
   "display_name": "Python 3",
   "language": "python",
   "name": "python3"
  },
  "language_info": {
   "codemirror_mode": {
    "name": "ipython",
    "version": 3
   },
   "file_extension": ".py",
   "mimetype": "text/x-python",
   "name": "python",
   "nbconvert_exporter": "python",
   "pygments_lexer": "ipython3",
   "version": "3.6.4"
  }
 },
 "nbformat": 4,
 "nbformat_minor": 2
}
